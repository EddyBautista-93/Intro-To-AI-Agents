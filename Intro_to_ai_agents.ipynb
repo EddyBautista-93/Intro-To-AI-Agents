{
  "nbformat": 4,
  "nbformat_minor": 0,
  "metadata": {
    "colab": {
      "provenance": [],
      "authorship_tag": "ABX9TyNU1mpzazkjVxd4lUQ1Ijy+",
      "include_colab_link": true
    },
    "kernelspec": {
      "name": "python3",
      "display_name": "Python 3"
    },
    "language_info": {
      "name": "python"
    },
    "widgets": {
      "application/vnd.jupyter.widget-state+json": {
        "382e55dc798b4e5e8a5417d31639c207": {
          "model_module": "@jupyter-widgets/controls",
          "model_name": "VBoxModel",
          "model_module_version": "1.5.0",
          "state": {
            "_dom_classes": [],
            "_model_module": "@jupyter-widgets/controls",
            "_model_module_version": "1.5.0",
            "_model_name": "VBoxModel",
            "_view_count": null,
            "_view_module": "@jupyter-widgets/controls",
            "_view_module_version": "1.5.0",
            "_view_name": "VBoxView",
            "box_style": "",
            "children": [],
            "layout": "IPY_MODEL_8621166d59974dceadc989001af4e327"
          }
        },
        "41d7b005876a437baca080fa642d1459": {
          "model_module": "@jupyter-widgets/controls",
          "model_name": "HTMLModel",
          "model_module_version": "1.5.0",
          "state": {
            "_dom_classes": [],
            "_model_module": "@jupyter-widgets/controls",
            "_model_module_version": "1.5.0",
            "_model_name": "HTMLModel",
            "_view_count": null,
            "_view_module": "@jupyter-widgets/controls",
            "_view_module_version": "1.5.0",
            "_view_name": "HTMLView",
            "description": "",
            "description_tooltip": null,
            "layout": "IPY_MODEL_01d3977f99ee42879e54777aac1f3b89",
            "placeholder": "​",
            "style": "IPY_MODEL_989a82e4348b49e7a61ce0c09ac0ec77",
            "value": "<center> <img\nsrc=https://huggingface.co/front/assets/huggingface_logo-noborder.svg\nalt='Hugging Face'> <br> Copy a token from <a\nhref=\"https://huggingface.co/settings/tokens\" target=\"_blank\">your Hugging Face\ntokens page</a> and paste it below. <br> Immediately click login after copying\nyour token or it might be stored in plain text in this notebook file. </center>"
          }
        },
        "29a737367ec24e59ad18a07b1fd15c74": {
          "model_module": "@jupyter-widgets/controls",
          "model_name": "PasswordModel",
          "model_module_version": "1.5.0",
          "state": {
            "_dom_classes": [],
            "_model_module": "@jupyter-widgets/controls",
            "_model_module_version": "1.5.0",
            "_model_name": "PasswordModel",
            "_view_count": null,
            "_view_module": "@jupyter-widgets/controls",
            "_view_module_version": "1.5.0",
            "_view_name": "PasswordView",
            "continuous_update": true,
            "description": "Token:",
            "description_tooltip": null,
            "disabled": false,
            "layout": "IPY_MODEL_e5d5114c19e94bcf861ed61e2d41079e",
            "placeholder": "​",
            "style": "IPY_MODEL_575039b65c7440a79b2f6fe7bd711009",
            "value": ""
          }
        },
        "6ea310d4b28e4b37a90f7270d5c87112": {
          "model_module": "@jupyter-widgets/controls",
          "model_name": "CheckboxModel",
          "model_module_version": "1.5.0",
          "state": {
            "_dom_classes": [],
            "_model_module": "@jupyter-widgets/controls",
            "_model_module_version": "1.5.0",
            "_model_name": "CheckboxModel",
            "_view_count": null,
            "_view_module": "@jupyter-widgets/controls",
            "_view_module_version": "1.5.0",
            "_view_name": "CheckboxView",
            "description": "Add token as git credential?",
            "description_tooltip": null,
            "disabled": false,
            "indent": true,
            "layout": "IPY_MODEL_fbda0ab6a4304f5baff72133766dde5d",
            "style": "IPY_MODEL_780c452e13fb47c781e981ad1c2bbfe0",
            "value": true
          }
        },
        "8722a0931ce94cc084e9fbf9e921354e": {
          "model_module": "@jupyter-widgets/controls",
          "model_name": "ButtonModel",
          "model_module_version": "1.5.0",
          "state": {
            "_dom_classes": [],
            "_model_module": "@jupyter-widgets/controls",
            "_model_module_version": "1.5.0",
            "_model_name": "ButtonModel",
            "_view_count": null,
            "_view_module": "@jupyter-widgets/controls",
            "_view_module_version": "1.5.0",
            "_view_name": "ButtonView",
            "button_style": "",
            "description": "Login",
            "disabled": false,
            "icon": "",
            "layout": "IPY_MODEL_65b6227ab17d4106af7b5294f54c9d5b",
            "style": "IPY_MODEL_252fc0fa7a514c38a8d005d761aee27f",
            "tooltip": ""
          }
        },
        "59d978e468ff447b98ed0357fadc04b4": {
          "model_module": "@jupyter-widgets/controls",
          "model_name": "HTMLModel",
          "model_module_version": "1.5.0",
          "state": {
            "_dom_classes": [],
            "_model_module": "@jupyter-widgets/controls",
            "_model_module_version": "1.5.0",
            "_model_name": "HTMLModel",
            "_view_count": null,
            "_view_module": "@jupyter-widgets/controls",
            "_view_module_version": "1.5.0",
            "_view_name": "HTMLView",
            "description": "",
            "description_tooltip": null,
            "layout": "IPY_MODEL_68a51d7723a747599e78b1b77b5e084d",
            "placeholder": "​",
            "style": "IPY_MODEL_79ff177da6794ca1b439ea1885659346",
            "value": "\n<b>Pro Tip:</b> If you don't already have one, you can create a dedicated\n'notebooks' token with 'write' access, that you can then easily reuse for all\nnotebooks. </center>"
          }
        },
        "8621166d59974dceadc989001af4e327": {
          "model_module": "@jupyter-widgets/base",
          "model_name": "LayoutModel",
          "model_module_version": "1.2.0",
          "state": {
            "_model_module": "@jupyter-widgets/base",
            "_model_module_version": "1.2.0",
            "_model_name": "LayoutModel",
            "_view_count": null,
            "_view_module": "@jupyter-widgets/base",
            "_view_module_version": "1.2.0",
            "_view_name": "LayoutView",
            "align_content": null,
            "align_items": "center",
            "align_self": null,
            "border": null,
            "bottom": null,
            "display": "flex",
            "flex": null,
            "flex_flow": "column",
            "grid_area": null,
            "grid_auto_columns": null,
            "grid_auto_flow": null,
            "grid_auto_rows": null,
            "grid_column": null,
            "grid_gap": null,
            "grid_row": null,
            "grid_template_areas": null,
            "grid_template_columns": null,
            "grid_template_rows": null,
            "height": null,
            "justify_content": null,
            "justify_items": null,
            "left": null,
            "margin": null,
            "max_height": null,
            "max_width": null,
            "min_height": null,
            "min_width": null,
            "object_fit": null,
            "object_position": null,
            "order": null,
            "overflow": null,
            "overflow_x": null,
            "overflow_y": null,
            "padding": null,
            "right": null,
            "top": null,
            "visibility": null,
            "width": "50%"
          }
        },
        "01d3977f99ee42879e54777aac1f3b89": {
          "model_module": "@jupyter-widgets/base",
          "model_name": "LayoutModel",
          "model_module_version": "1.2.0",
          "state": {
            "_model_module": "@jupyter-widgets/base",
            "_model_module_version": "1.2.0",
            "_model_name": "LayoutModel",
            "_view_count": null,
            "_view_module": "@jupyter-widgets/base",
            "_view_module_version": "1.2.0",
            "_view_name": "LayoutView",
            "align_content": null,
            "align_items": null,
            "align_self": null,
            "border": null,
            "bottom": null,
            "display": null,
            "flex": null,
            "flex_flow": null,
            "grid_area": null,
            "grid_auto_columns": null,
            "grid_auto_flow": null,
            "grid_auto_rows": null,
            "grid_column": null,
            "grid_gap": null,
            "grid_row": null,
            "grid_template_areas": null,
            "grid_template_columns": null,
            "grid_template_rows": null,
            "height": null,
            "justify_content": null,
            "justify_items": null,
            "left": null,
            "margin": null,
            "max_height": null,
            "max_width": null,
            "min_height": null,
            "min_width": null,
            "object_fit": null,
            "object_position": null,
            "order": null,
            "overflow": null,
            "overflow_x": null,
            "overflow_y": null,
            "padding": null,
            "right": null,
            "top": null,
            "visibility": null,
            "width": null
          }
        },
        "989a82e4348b49e7a61ce0c09ac0ec77": {
          "model_module": "@jupyter-widgets/controls",
          "model_name": "DescriptionStyleModel",
          "model_module_version": "1.5.0",
          "state": {
            "_model_module": "@jupyter-widgets/controls",
            "_model_module_version": "1.5.0",
            "_model_name": "DescriptionStyleModel",
            "_view_count": null,
            "_view_module": "@jupyter-widgets/base",
            "_view_module_version": "1.2.0",
            "_view_name": "StyleView",
            "description_width": ""
          }
        },
        "e5d5114c19e94bcf861ed61e2d41079e": {
          "model_module": "@jupyter-widgets/base",
          "model_name": "LayoutModel",
          "model_module_version": "1.2.0",
          "state": {
            "_model_module": "@jupyter-widgets/base",
            "_model_module_version": "1.2.0",
            "_model_name": "LayoutModel",
            "_view_count": null,
            "_view_module": "@jupyter-widgets/base",
            "_view_module_version": "1.2.0",
            "_view_name": "LayoutView",
            "align_content": null,
            "align_items": null,
            "align_self": null,
            "border": null,
            "bottom": null,
            "display": null,
            "flex": null,
            "flex_flow": null,
            "grid_area": null,
            "grid_auto_columns": null,
            "grid_auto_flow": null,
            "grid_auto_rows": null,
            "grid_column": null,
            "grid_gap": null,
            "grid_row": null,
            "grid_template_areas": null,
            "grid_template_columns": null,
            "grid_template_rows": null,
            "height": null,
            "justify_content": null,
            "justify_items": null,
            "left": null,
            "margin": null,
            "max_height": null,
            "max_width": null,
            "min_height": null,
            "min_width": null,
            "object_fit": null,
            "object_position": null,
            "order": null,
            "overflow": null,
            "overflow_x": null,
            "overflow_y": null,
            "padding": null,
            "right": null,
            "top": null,
            "visibility": null,
            "width": null
          }
        },
        "575039b65c7440a79b2f6fe7bd711009": {
          "model_module": "@jupyter-widgets/controls",
          "model_name": "DescriptionStyleModel",
          "model_module_version": "1.5.0",
          "state": {
            "_model_module": "@jupyter-widgets/controls",
            "_model_module_version": "1.5.0",
            "_model_name": "DescriptionStyleModel",
            "_view_count": null,
            "_view_module": "@jupyter-widgets/base",
            "_view_module_version": "1.2.0",
            "_view_name": "StyleView",
            "description_width": ""
          }
        },
        "fbda0ab6a4304f5baff72133766dde5d": {
          "model_module": "@jupyter-widgets/base",
          "model_name": "LayoutModel",
          "model_module_version": "1.2.0",
          "state": {
            "_model_module": "@jupyter-widgets/base",
            "_model_module_version": "1.2.0",
            "_model_name": "LayoutModel",
            "_view_count": null,
            "_view_module": "@jupyter-widgets/base",
            "_view_module_version": "1.2.0",
            "_view_name": "LayoutView",
            "align_content": null,
            "align_items": null,
            "align_self": null,
            "border": null,
            "bottom": null,
            "display": null,
            "flex": null,
            "flex_flow": null,
            "grid_area": null,
            "grid_auto_columns": null,
            "grid_auto_flow": null,
            "grid_auto_rows": null,
            "grid_column": null,
            "grid_gap": null,
            "grid_row": null,
            "grid_template_areas": null,
            "grid_template_columns": null,
            "grid_template_rows": null,
            "height": null,
            "justify_content": null,
            "justify_items": null,
            "left": null,
            "margin": null,
            "max_height": null,
            "max_width": null,
            "min_height": null,
            "min_width": null,
            "object_fit": null,
            "object_position": null,
            "order": null,
            "overflow": null,
            "overflow_x": null,
            "overflow_y": null,
            "padding": null,
            "right": null,
            "top": null,
            "visibility": null,
            "width": null
          }
        },
        "780c452e13fb47c781e981ad1c2bbfe0": {
          "model_module": "@jupyter-widgets/controls",
          "model_name": "DescriptionStyleModel",
          "model_module_version": "1.5.0",
          "state": {
            "_model_module": "@jupyter-widgets/controls",
            "_model_module_version": "1.5.0",
            "_model_name": "DescriptionStyleModel",
            "_view_count": null,
            "_view_module": "@jupyter-widgets/base",
            "_view_module_version": "1.2.0",
            "_view_name": "StyleView",
            "description_width": ""
          }
        },
        "65b6227ab17d4106af7b5294f54c9d5b": {
          "model_module": "@jupyter-widgets/base",
          "model_name": "LayoutModel",
          "model_module_version": "1.2.0",
          "state": {
            "_model_module": "@jupyter-widgets/base",
            "_model_module_version": "1.2.0",
            "_model_name": "LayoutModel",
            "_view_count": null,
            "_view_module": "@jupyter-widgets/base",
            "_view_module_version": "1.2.0",
            "_view_name": "LayoutView",
            "align_content": null,
            "align_items": null,
            "align_self": null,
            "border": null,
            "bottom": null,
            "display": null,
            "flex": null,
            "flex_flow": null,
            "grid_area": null,
            "grid_auto_columns": null,
            "grid_auto_flow": null,
            "grid_auto_rows": null,
            "grid_column": null,
            "grid_gap": null,
            "grid_row": null,
            "grid_template_areas": null,
            "grid_template_columns": null,
            "grid_template_rows": null,
            "height": null,
            "justify_content": null,
            "justify_items": null,
            "left": null,
            "margin": null,
            "max_height": null,
            "max_width": null,
            "min_height": null,
            "min_width": null,
            "object_fit": null,
            "object_position": null,
            "order": null,
            "overflow": null,
            "overflow_x": null,
            "overflow_y": null,
            "padding": null,
            "right": null,
            "top": null,
            "visibility": null,
            "width": null
          }
        },
        "252fc0fa7a514c38a8d005d761aee27f": {
          "model_module": "@jupyter-widgets/controls",
          "model_name": "ButtonStyleModel",
          "model_module_version": "1.5.0",
          "state": {
            "_model_module": "@jupyter-widgets/controls",
            "_model_module_version": "1.5.0",
            "_model_name": "ButtonStyleModel",
            "_view_count": null,
            "_view_module": "@jupyter-widgets/base",
            "_view_module_version": "1.2.0",
            "_view_name": "StyleView",
            "button_color": null,
            "font_weight": ""
          }
        },
        "68a51d7723a747599e78b1b77b5e084d": {
          "model_module": "@jupyter-widgets/base",
          "model_name": "LayoutModel",
          "model_module_version": "1.2.0",
          "state": {
            "_model_module": "@jupyter-widgets/base",
            "_model_module_version": "1.2.0",
            "_model_name": "LayoutModel",
            "_view_count": null,
            "_view_module": "@jupyter-widgets/base",
            "_view_module_version": "1.2.0",
            "_view_name": "LayoutView",
            "align_content": null,
            "align_items": null,
            "align_self": null,
            "border": null,
            "bottom": null,
            "display": null,
            "flex": null,
            "flex_flow": null,
            "grid_area": null,
            "grid_auto_columns": null,
            "grid_auto_flow": null,
            "grid_auto_rows": null,
            "grid_column": null,
            "grid_gap": null,
            "grid_row": null,
            "grid_template_areas": null,
            "grid_template_columns": null,
            "grid_template_rows": null,
            "height": null,
            "justify_content": null,
            "justify_items": null,
            "left": null,
            "margin": null,
            "max_height": null,
            "max_width": null,
            "min_height": null,
            "min_width": null,
            "object_fit": null,
            "object_position": null,
            "order": null,
            "overflow": null,
            "overflow_x": null,
            "overflow_y": null,
            "padding": null,
            "right": null,
            "top": null,
            "visibility": null,
            "width": null
          }
        },
        "79ff177da6794ca1b439ea1885659346": {
          "model_module": "@jupyter-widgets/controls",
          "model_name": "DescriptionStyleModel",
          "model_module_version": "1.5.0",
          "state": {
            "_model_module": "@jupyter-widgets/controls",
            "_model_module_version": "1.5.0",
            "_model_name": "DescriptionStyleModel",
            "_view_count": null,
            "_view_module": "@jupyter-widgets/base",
            "_view_module_version": "1.2.0",
            "_view_name": "StyleView",
            "description_width": ""
          }
        },
        "7fc5a97ca09f4a2296b22f41718b55ca": {
          "model_module": "@jupyter-widgets/controls",
          "model_name": "LabelModel",
          "model_module_version": "1.5.0",
          "state": {
            "_dom_classes": [],
            "_model_module": "@jupyter-widgets/controls",
            "_model_module_version": "1.5.0",
            "_model_name": "LabelModel",
            "_view_count": null,
            "_view_module": "@jupyter-widgets/controls",
            "_view_module_version": "1.5.0",
            "_view_name": "LabelView",
            "description": "",
            "description_tooltip": null,
            "layout": "IPY_MODEL_4b8b5f84cc5944d18601a2f77312debf",
            "placeholder": "​",
            "style": "IPY_MODEL_d0f2fecc144843be9cc59f65e852d3e8",
            "value": "Connecting..."
          }
        },
        "4b8b5f84cc5944d18601a2f77312debf": {
          "model_module": "@jupyter-widgets/base",
          "model_name": "LayoutModel",
          "model_module_version": "1.2.0",
          "state": {
            "_model_module": "@jupyter-widgets/base",
            "_model_module_version": "1.2.0",
            "_model_name": "LayoutModel",
            "_view_count": null,
            "_view_module": "@jupyter-widgets/base",
            "_view_module_version": "1.2.0",
            "_view_name": "LayoutView",
            "align_content": null,
            "align_items": null,
            "align_self": null,
            "border": null,
            "bottom": null,
            "display": null,
            "flex": null,
            "flex_flow": null,
            "grid_area": null,
            "grid_auto_columns": null,
            "grid_auto_flow": null,
            "grid_auto_rows": null,
            "grid_column": null,
            "grid_gap": null,
            "grid_row": null,
            "grid_template_areas": null,
            "grid_template_columns": null,
            "grid_template_rows": null,
            "height": null,
            "justify_content": null,
            "justify_items": null,
            "left": null,
            "margin": null,
            "max_height": null,
            "max_width": null,
            "min_height": null,
            "min_width": null,
            "object_fit": null,
            "object_position": null,
            "order": null,
            "overflow": null,
            "overflow_x": null,
            "overflow_y": null,
            "padding": null,
            "right": null,
            "top": null,
            "visibility": null,
            "width": null
          }
        },
        "d0f2fecc144843be9cc59f65e852d3e8": {
          "model_module": "@jupyter-widgets/controls",
          "model_name": "DescriptionStyleModel",
          "model_module_version": "1.5.0",
          "state": {
            "_model_module": "@jupyter-widgets/controls",
            "_model_module_version": "1.5.0",
            "_model_name": "DescriptionStyleModel",
            "_view_count": null,
            "_view_module": "@jupyter-widgets/base",
            "_view_module_version": "1.2.0",
            "_view_name": "StyleView",
            "description_width": ""
          }
        }
      }
    }
  },
  "cells": [
    {
      "cell_type": "markdown",
      "metadata": {
        "id": "view-in-github",
        "colab_type": "text"
      },
      "source": [
        "<a href=\"https://colab.research.google.com/github/EddyBautista-93/Intro-To-AI-Agents/blob/main/Intro_to_ai_agents.ipynb\" target=\"_parent\"><img src=\"https://colab.research.google.com/assets/colab-badge.svg\" alt=\"Open In Colab\"/></a>"
      ]
    },
    {
      "cell_type": "markdown",
      "source": [
        "# Intro to AI Agents - EventForge"
      ],
      "metadata": {
        "id": "qI3yiXjKFN6u"
      }
    },
    {
      "cell_type": "markdown",
      "source": [
        "For this workshop we will be creating a AI Agent with the ability to help us plan for a event we will be hosting. \\\n",
        "Below is the following tools we will be looking building together."
      ],
      "metadata": {
        "id": "huMD9xKGFypU"
      }
    },
    {
      "cell_type": "markdown",
      "source": [
        "Tool # | Name | What it adds\n",
        "--- | --- | ---\n",
        "1 | DuckDuckGoSearch | Venue Discovery - Built In\n",
        "2 | Image Generation | Create Promo Visual - Community Tool\n",
        "3 | Post Gen | Generate Post\n",
        "4 | Budget Estimator | Financial planning for headcount, food, venue, and swag - Custom\n"
      ],
      "metadata": {
        "id": "MOwM3agDDqtu"
      }
    },
    {
      "cell_type": "markdown",
      "source": [
        "# Getting started"
      ],
      "metadata": {
        "id": "-DPn6Wvl76-Q"
      }
    },
    {
      "cell_type": "markdown",
      "source": [
        "We’ll begin by installing the dependencies needed for building our smart event planning agent."
      ],
      "metadata": {
        "id": "OIA2bEO4HbF7"
      }
    },
    {
      "cell_type": "code",
      "execution_count": 1,
      "metadata": {
        "id": "gAQYS0lPC-yg",
        "outputId": "13d3d2af-00ba-47a7-9e9e-117da221d5d6",
        "colab": {
          "base_uri": "https://localhost:8080/"
        }
      },
      "outputs": [
        {
          "output_type": "stream",
          "name": "stdout",
          "text": [
            "Collecting smolagents\n",
            "  Downloading smolagents-1.13.0-py3-none-any.whl.metadata (15 kB)\n",
            "Collecting gradio\n",
            "  Downloading gradio-5.23.3-py3-none-any.whl.metadata (16 kB)\n",
            "Requirement already satisfied: huggingface-hub>=0.28.0 in /usr/local/lib/python3.11/dist-packages (from smolagents) (0.29.3)\n",
            "Requirement already satisfied: requests>=2.32.3 in /usr/local/lib/python3.11/dist-packages (from smolagents) (2.32.3)\n",
            "Requirement already satisfied: rich>=13.9.4 in /usr/local/lib/python3.11/dist-packages (from smolagents) (13.9.4)\n",
            "Requirement already satisfied: jinja2>=3.1.4 in /usr/local/lib/python3.11/dist-packages (from smolagents) (3.1.6)\n",
            "Requirement already satisfied: pillow<11.2.0,>=11.0.0 in /usr/local/lib/python3.11/dist-packages (from smolagents) (11.1.0)\n",
            "Collecting markdownify>=0.14.1 (from smolagents)\n",
            "  Downloading markdownify-1.1.0-py3-none-any.whl.metadata (9.1 kB)\n",
            "Collecting duckduckgo-search>=6.3.7 (from smolagents)\n",
            "  Downloading duckduckgo_search-2025.4.1-cp311-cp311-manylinux_2_17_x86_64.manylinux2014_x86_64.whl.metadata (17 kB)\n",
            "Collecting python-dotenv (from smolagents)\n",
            "  Downloading python_dotenv-1.1.0-py3-none-any.whl.metadata (24 kB)\n",
            "Collecting aiofiles<24.0,>=22.0 (from gradio)\n",
            "  Downloading aiofiles-23.2.1-py3-none-any.whl.metadata (9.7 kB)\n",
            "Requirement already satisfied: anyio<5.0,>=3.0 in /usr/local/lib/python3.11/dist-packages (from gradio) (4.9.0)\n",
            "Collecting fastapi<1.0,>=0.115.2 (from gradio)\n",
            "  Downloading fastapi-0.115.12-py3-none-any.whl.metadata (27 kB)\n",
            "Collecting ffmpy (from gradio)\n",
            "  Downloading ffmpy-0.5.0-py3-none-any.whl.metadata (3.0 kB)\n",
            "Collecting gradio-client==1.8.0 (from gradio)\n",
            "  Downloading gradio_client-1.8.0-py3-none-any.whl.metadata (7.1 kB)\n",
            "Collecting groovy~=0.1 (from gradio)\n",
            "  Downloading groovy-0.1.2-py3-none-any.whl.metadata (6.1 kB)\n",
            "Requirement already satisfied: httpx>=0.24.1 in /usr/local/lib/python3.11/dist-packages (from gradio) (0.28.1)\n",
            "Requirement already satisfied: markupsafe<4.0,>=2.0 in /usr/local/lib/python3.11/dist-packages (from gradio) (3.0.2)\n",
            "Requirement already satisfied: numpy<3.0,>=1.0 in /usr/local/lib/python3.11/dist-packages (from gradio) (2.0.2)\n",
            "Requirement already satisfied: orjson~=3.0 in /usr/local/lib/python3.11/dist-packages (from gradio) (3.10.16)\n",
            "Requirement already satisfied: packaging in /usr/local/lib/python3.11/dist-packages (from gradio) (24.2)\n",
            "Requirement already satisfied: pandas<3.0,>=1.0 in /usr/local/lib/python3.11/dist-packages (from gradio) (2.2.2)\n",
            "Requirement already satisfied: pydantic<2.12,>=2.0 in /usr/local/lib/python3.11/dist-packages (from gradio) (2.11.0)\n",
            "Collecting pydub (from gradio)\n",
            "  Downloading pydub-0.25.1-py2.py3-none-any.whl.metadata (1.4 kB)\n",
            "Collecting python-multipart>=0.0.18 (from gradio)\n",
            "  Downloading python_multipart-0.0.20-py3-none-any.whl.metadata (1.8 kB)\n",
            "Requirement already satisfied: pyyaml<7.0,>=5.0 in /usr/local/lib/python3.11/dist-packages (from gradio) (6.0.2)\n",
            "Collecting ruff>=0.9.3 (from gradio)\n",
            "  Downloading ruff-0.11.2-py3-none-manylinux_2_17_x86_64.manylinux2014_x86_64.whl.metadata (25 kB)\n",
            "Collecting safehttpx<0.2.0,>=0.1.6 (from gradio)\n",
            "  Downloading safehttpx-0.1.6-py3-none-any.whl.metadata (4.2 kB)\n",
            "Collecting semantic-version~=2.0 (from gradio)\n",
            "  Downloading semantic_version-2.10.0-py2.py3-none-any.whl.metadata (9.7 kB)\n",
            "Collecting starlette<1.0,>=0.40.0 (from gradio)\n",
            "  Downloading starlette-0.46.1-py3-none-any.whl.metadata (6.2 kB)\n",
            "Collecting tomlkit<0.14.0,>=0.12.0 (from gradio)\n",
            "  Downloading tomlkit-0.13.2-py3-none-any.whl.metadata (2.7 kB)\n",
            "Requirement already satisfied: typer<1.0,>=0.12 in /usr/local/lib/python3.11/dist-packages (from gradio) (0.15.2)\n",
            "Requirement already satisfied: typing-extensions~=4.0 in /usr/local/lib/python3.11/dist-packages (from gradio) (4.13.0)\n",
            "Collecting uvicorn>=0.14.0 (from gradio)\n",
            "  Downloading uvicorn-0.34.0-py3-none-any.whl.metadata (6.5 kB)\n",
            "Requirement already satisfied: fsspec in /usr/local/lib/python3.11/dist-packages (from gradio-client==1.8.0->gradio) (2025.3.0)\n",
            "Requirement already satisfied: websockets<16.0,>=10.0 in /usr/local/lib/python3.11/dist-packages (from gradio-client==1.8.0->gradio) (15.0.1)\n",
            "Requirement already satisfied: idna>=2.8 in /usr/local/lib/python3.11/dist-packages (from anyio<5.0,>=3.0->gradio) (3.10)\n",
            "Requirement already satisfied: sniffio>=1.1 in /usr/local/lib/python3.11/dist-packages (from anyio<5.0,>=3.0->gradio) (1.3.1)\n",
            "Requirement already satisfied: click>=8.1.8 in /usr/local/lib/python3.11/dist-packages (from duckduckgo-search>=6.3.7->smolagents) (8.1.8)\n",
            "Collecting primp>=0.14.0 (from duckduckgo-search>=6.3.7->smolagents)\n",
            "  Downloading primp-0.14.0-cp38-abi3-manylinux_2_17_x86_64.manylinux2014_x86_64.whl.metadata (13 kB)\n",
            "Requirement already satisfied: lxml>=5.3.0 in /usr/local/lib/python3.11/dist-packages (from duckduckgo-search>=6.3.7->smolagents) (5.3.1)\n",
            "Requirement already satisfied: certifi in /usr/local/lib/python3.11/dist-packages (from httpx>=0.24.1->gradio) (2025.1.31)\n",
            "Requirement already satisfied: httpcore==1.* in /usr/local/lib/python3.11/dist-packages (from httpx>=0.24.1->gradio) (1.0.7)\n",
            "Requirement already satisfied: h11<0.15,>=0.13 in /usr/local/lib/python3.11/dist-packages (from httpcore==1.*->httpx>=0.24.1->gradio) (0.14.0)\n",
            "Requirement already satisfied: filelock in /usr/local/lib/python3.11/dist-packages (from huggingface-hub>=0.28.0->smolagents) (3.18.0)\n",
            "Requirement already satisfied: tqdm>=4.42.1 in /usr/local/lib/python3.11/dist-packages (from huggingface-hub>=0.28.0->smolagents) (4.67.1)\n",
            "Requirement already satisfied: beautifulsoup4<5,>=4.9 in /usr/local/lib/python3.11/dist-packages (from markdownify>=0.14.1->smolagents) (4.13.3)\n",
            "Requirement already satisfied: six<2,>=1.15 in /usr/local/lib/python3.11/dist-packages (from markdownify>=0.14.1->smolagents) (1.17.0)\n",
            "Requirement already satisfied: python-dateutil>=2.8.2 in /usr/local/lib/python3.11/dist-packages (from pandas<3.0,>=1.0->gradio) (2.8.2)\n",
            "Requirement already satisfied: pytz>=2020.1 in /usr/local/lib/python3.11/dist-packages (from pandas<3.0,>=1.0->gradio) (2025.2)\n",
            "Requirement already satisfied: tzdata>=2022.7 in /usr/local/lib/python3.11/dist-packages (from pandas<3.0,>=1.0->gradio) (2025.2)\n",
            "Requirement already satisfied: annotated-types>=0.6.0 in /usr/local/lib/python3.11/dist-packages (from pydantic<2.12,>=2.0->gradio) (0.7.0)\n",
            "Requirement already satisfied: pydantic-core==2.33.0 in /usr/local/lib/python3.11/dist-packages (from pydantic<2.12,>=2.0->gradio) (2.33.0)\n",
            "Requirement already satisfied: typing-inspection>=0.4.0 in /usr/local/lib/python3.11/dist-packages (from pydantic<2.12,>=2.0->gradio) (0.4.0)\n",
            "Requirement already satisfied: charset-normalizer<4,>=2 in /usr/local/lib/python3.11/dist-packages (from requests>=2.32.3->smolagents) (3.4.1)\n",
            "Requirement already satisfied: urllib3<3,>=1.21.1 in /usr/local/lib/python3.11/dist-packages (from requests>=2.32.3->smolagents) (2.3.0)\n",
            "Requirement already satisfied: markdown-it-py>=2.2.0 in /usr/local/lib/python3.11/dist-packages (from rich>=13.9.4->smolagents) (3.0.0)\n",
            "Requirement already satisfied: pygments<3.0.0,>=2.13.0 in /usr/local/lib/python3.11/dist-packages (from rich>=13.9.4->smolagents) (2.18.0)\n",
            "Requirement already satisfied: shellingham>=1.3.0 in /usr/local/lib/python3.11/dist-packages (from typer<1.0,>=0.12->gradio) (1.5.4)\n",
            "Requirement already satisfied: soupsieve>1.2 in /usr/local/lib/python3.11/dist-packages (from beautifulsoup4<5,>=4.9->markdownify>=0.14.1->smolagents) (2.6)\n",
            "Requirement already satisfied: mdurl~=0.1 in /usr/local/lib/python3.11/dist-packages (from markdown-it-py>=2.2.0->rich>=13.9.4->smolagents) (0.1.2)\n",
            "Downloading smolagents-1.13.0-py3-none-any.whl (108 kB)\n",
            "\u001b[2K   \u001b[90m━━━━━━━━━━━━━━━━━━━━━━━━━━━━━━━━━━━━━━━━\u001b[0m \u001b[32m108.2/108.2 kB\u001b[0m \u001b[31m3.4 MB/s\u001b[0m eta \u001b[36m0:00:00\u001b[0m\n",
            "\u001b[?25hDownloading gradio-5.23.3-py3-none-any.whl (46.5 MB)\n",
            "\u001b[2K   \u001b[90m━━━━━━━━━━━━━━━━━━━━━━━━━━━━━━━━━━━━━━━━\u001b[0m \u001b[32m46.5/46.5 MB\u001b[0m \u001b[31m12.4 MB/s\u001b[0m eta \u001b[36m0:00:00\u001b[0m\n",
            "\u001b[?25hDownloading gradio_client-1.8.0-py3-none-any.whl (322 kB)\n",
            "\u001b[2K   \u001b[90m━━━━━━━━━━━━━━━━━━━━━━━━━━━━━━━━━━━━━━━━\u001b[0m \u001b[32m322.2/322.2 kB\u001b[0m \u001b[31m9.5 MB/s\u001b[0m eta \u001b[36m0:00:00\u001b[0m\n",
            "\u001b[?25hDownloading aiofiles-23.2.1-py3-none-any.whl (15 kB)\n",
            "Downloading duckduckgo_search-2025.4.1-cp311-cp311-manylinux_2_17_x86_64.manylinux2014_x86_64.whl (77 kB)\n",
            "\u001b[2K   \u001b[90m━━━━━━━━━━━━━━━━━━━━━━━━━━━━━━━━━━━━━━━━\u001b[0m \u001b[32m77.6/77.6 kB\u001b[0m \u001b[31m4.7 MB/s\u001b[0m eta \u001b[36m0:00:00\u001b[0m\n",
            "\u001b[?25hDownloading fastapi-0.115.12-py3-none-any.whl (95 kB)\n",
            "\u001b[2K   \u001b[90m━━━━━━━━━━━━━━━━━━━━━━━━━━━━━━━━━━━━━━━━\u001b[0m \u001b[32m95.2/95.2 kB\u001b[0m \u001b[31m5.6 MB/s\u001b[0m eta \u001b[36m0:00:00\u001b[0m\n",
            "\u001b[?25hDownloading groovy-0.1.2-py3-none-any.whl (14 kB)\n",
            "Downloading markdownify-1.1.0-py3-none-any.whl (13 kB)\n",
            "Downloading python_multipart-0.0.20-py3-none-any.whl (24 kB)\n",
            "Downloading ruff-0.11.2-py3-none-manylinux_2_17_x86_64.manylinux2014_x86_64.whl (11.3 MB)\n",
            "\u001b[2K   \u001b[90m━━━━━━━━━━━━━━━━━━━━━━━━━━━━━━━━━━━━━━━━\u001b[0m \u001b[32m11.3/11.3 MB\u001b[0m \u001b[31m75.2 MB/s\u001b[0m eta \u001b[36m0:00:00\u001b[0m\n",
            "\u001b[?25hDownloading safehttpx-0.1.6-py3-none-any.whl (8.7 kB)\n",
            "Downloading semantic_version-2.10.0-py2.py3-none-any.whl (15 kB)\n",
            "Downloading starlette-0.46.1-py3-none-any.whl (71 kB)\n",
            "\u001b[2K   \u001b[90m━━━━━━━━━━━━━━━━━━━━━━━━━━━━━━━━━━━━━━━━\u001b[0m \u001b[32m72.0/72.0 kB\u001b[0m \u001b[31m4.5 MB/s\u001b[0m eta \u001b[36m0:00:00\u001b[0m\n",
            "\u001b[?25hDownloading tomlkit-0.13.2-py3-none-any.whl (37 kB)\n",
            "Downloading uvicorn-0.34.0-py3-none-any.whl (62 kB)\n",
            "\u001b[2K   \u001b[90m━━━━━━━━━━━━━━━━━━━━━━━━━━━━━━━━━━━━━━━━\u001b[0m \u001b[32m62.3/62.3 kB\u001b[0m \u001b[31m3.6 MB/s\u001b[0m eta \u001b[36m0:00:00\u001b[0m\n",
            "\u001b[?25hDownloading ffmpy-0.5.0-py3-none-any.whl (6.0 kB)\n",
            "Downloading pydub-0.25.1-py2.py3-none-any.whl (32 kB)\n",
            "Downloading python_dotenv-1.1.0-py3-none-any.whl (20 kB)\n",
            "Downloading primp-0.14.0-cp38-abi3-manylinux_2_17_x86_64.manylinux2014_x86_64.whl (3.3 MB)\n",
            "\u001b[2K   \u001b[90m━━━━━━━━━━━━━━━━━━━━━━━━━━━━━━━━━━━━━━━━\u001b[0m \u001b[32m3.3/3.3 MB\u001b[0m \u001b[31m64.7 MB/s\u001b[0m eta \u001b[36m0:00:00\u001b[0m\n",
            "\u001b[?25hInstalling collected packages: pydub, uvicorn, tomlkit, semantic-version, ruff, python-multipart, python-dotenv, primp, groovy, ffmpy, aiofiles, starlette, markdownify, duckduckgo-search, smolagents, safehttpx, gradio-client, fastapi, gradio\n",
            "Successfully installed aiofiles-23.2.1 duckduckgo-search-2025.4.1 fastapi-0.115.12 ffmpy-0.5.0 gradio-5.23.3 gradio-client-1.8.0 groovy-0.1.2 markdownify-1.1.0 primp-0.14.0 pydub-0.25.1 python-dotenv-1.1.0 python-multipart-0.0.20 ruff-0.11.2 safehttpx-0.1.6 semantic-version-2.10.0 smolagents-1.13.0 starlette-0.46.1 tomlkit-0.13.2 uvicorn-0.34.0\n"
          ]
        }
      ],
      "source": [
        "! pip install smolagents gradio"
      ]
    },
    {
      "cell_type": "markdown",
      "source": [
        "The Installs\n",
        "\n",
        "\n",
        "*   **smolagents**: A lightweight framework for building LLM-powered agents with tool calling support.\n",
        "*   **gradio**: A UI library for interactive web demos in notebooks\n",
        "\n"
      ],
      "metadata": {
        "id": "oX3XEdyk74eu"
      }
    },
    {
      "cell_type": "markdown",
      "source": [
        "To use models like Mixtral from Hugging Face, you’ll need to authenticate:"
      ],
      "metadata": {
        "id": "WGJeqs-AK3RG"
      }
    },
    {
      "cell_type": "code",
      "source": [
        "from huggingface_hub import notebook_login\n",
        "\n",
        "notebook_login()"
      ],
      "metadata": {
        "id": "DfeXp4RM8JF1",
        "outputId": "51d33ba5-31c6-4b82-baa4-8f010e26487b",
        "colab": {
          "base_uri": "https://localhost:8080/",
          "height": 17,
          "referenced_widgets": [
            "382e55dc798b4e5e8a5417d31639c207",
            "41d7b005876a437baca080fa642d1459",
            "29a737367ec24e59ad18a07b1fd15c74",
            "6ea310d4b28e4b37a90f7270d5c87112",
            "8722a0931ce94cc084e9fbf9e921354e",
            "59d978e468ff447b98ed0357fadc04b4",
            "8621166d59974dceadc989001af4e327",
            "01d3977f99ee42879e54777aac1f3b89",
            "989a82e4348b49e7a61ce0c09ac0ec77",
            "e5d5114c19e94bcf861ed61e2d41079e",
            "575039b65c7440a79b2f6fe7bd711009",
            "fbda0ab6a4304f5baff72133766dde5d",
            "780c452e13fb47c781e981ad1c2bbfe0",
            "65b6227ab17d4106af7b5294f54c9d5b",
            "252fc0fa7a514c38a8d005d761aee27f",
            "68a51d7723a747599e78b1b77b5e084d",
            "79ff177da6794ca1b439ea1885659346",
            "7fc5a97ca09f4a2296b22f41718b55ca",
            "4b8b5f84cc5944d18601a2f77312debf",
            "d0f2fecc144843be9cc59f65e852d3e8"
          ]
        }
      },
      "execution_count": 2,
      "outputs": [
        {
          "output_type": "display_data",
          "data": {
            "text/plain": [
              "VBox(children=(HTML(value='<center> <img\\nsrc=https://huggingface.co/front/assets/huggingface_logo-noborder.sv…"
            ],
            "application/vnd.jupyter.widget-view+json": {
              "version_major": 2,
              "version_minor": 0,
              "model_id": "382e55dc798b4e5e8a5417d31639c207"
            }
          },
          "metadata": {}
        }
      ]
    },
    {
      "cell_type": "markdown",
      "source": [
        "\n",
        "To create a smart AI agent with SmolAgents, you need two core things:\n",
        "\n",
        "\n",
        "*   A model – the brain of the agent that generates and understands text\n",
        "*   A set of tools – external functions that the model can call to extend its capabilities\n",
        "\n",
        "## The Model\n",
        "Text generation models power your agent. Think of the model as the engine that drives everything forward. SmolAgents supports multiple model types depending on how you want to run your agent.\n",
        "\n",
        "### Model Options\n",
        "**TransformerModel** \\\n",
        "Runs a locally initialized transformers pipeline. Ideal for models you have downloaded or finetuned.\n",
        "\n",
        "**HFApiModel**(What we'll use) \\\n",
        "Uses Hugging Face Inference API via huggingface_hub.InferenceClient to call hosted models. Think LLaMA and Mixtral\n",
        "\n",
        "**LiteLLM** \\\n",
        "Supports calling 100+ LLMs through the LiteLLM router-userful for OpenAI, claude, etc with unified configs.\n",
        "\n",
        "**AzureOpenAiServerModel** \\\n",
        "Connects to OpenAI models deployed through Microsoft Azure\n",
        "\n",
        "**MLXModel** \\\n",
        "Creates a mlx-lm pipeline that run inference on your local machine.\n",
        "\n",
        "\n",
        "# Tools\n",
        "Tools give your AI agent ***agency*** - they let the model take actions beyond just talking.\\\n",
        "Tools are passed in like this:\n",
        "``` python\n",
        "tools=[]\n",
        "```\n",
        "These tools can include things like:\n",
        "\n",
        "\n",
        "*   Search Engines\n",
        "*   Image Generators\n",
        "*   Custom Tools\n",
        "*   RAG (Retrieval Augmented Generation ) Functions\n",
        "\n",
        "## Creating the Agent\n",
        "Once you have the model and tools, you can create a agent like this:\n",
        "\n",
        "``` python\n",
        "model_id = \"meta-llama/Llama-3.3-70B-Instruct\"\n",
        "model = HfApiModel(model_id=model_id) # By default if you don't pass in a model id the hfapi it uses the qwen model\n",
        "agent = ToolCallingAgent(tools=[], model=model)\n",
        "```"
      ],
      "metadata": {
        "id": "eIGLLnYvM1eU"
      }
    },
    {
      "cell_type": "markdown",
      "source": [
        "# ToolCallingAgent\n",
        "\n",
        "The ToolCallingAgent is a lightweight class designed to let large language models interact with tools.\n",
        "\n",
        "Since we're building an agent that plans events, we'll focus on this agent type to give the model the power to search the web, generate images, generate post and estimate budgets.\n",
        "\n",
        "Key Features of ToolCallingAgent\n",
        "- **Contextual Memory**: Maintains a chat history, allowing for ongoing reasoning and continuity across multiple prompts..\n",
        "- **Multi-Step Reasoning**: ToolCallingAgents follow a \"think-act-observe\" cycle as part of the ReAct framework.\n",
        "- **Customizability**: You can define:\n",
        "  * A list of tools for the agent to use.\n",
        "  * Specify prompt templates.\n",
        "  * Adjust other parameters like planning intervals during initialization\n",
        "\n"
      ],
      "metadata": {
        "id": "nh8bkrFFPOkW"
      }
    },
    {
      "cell_type": "markdown",
      "source": [
        "In short: ToolCallingAgent is what gives your AI brain the power to do more than talk—it can take action."
      ],
      "metadata": {
        "id": "Qd8nZb93-7kc"
      }
    },
    {
      "cell_type": "markdown",
      "source": [
        "## Tool 1: DuckDuckGoSearch + Location\n",
        "The first tool we're using is built directly into the SmolAgents framework: DuckDuckGoSearchTool.\n",
        "\n",
        "This tools allows the agent to search the web in real time and retrieve up-to-date information. Perfect for finding venues, vendors, and other real-world event planning needs.\n",
        "\n",
        "This tool:\n",
        "* Searches DuckDuckGo for relevant results.\n",
        "* Works out of the box - no API key needed.\n",
        "* Can be combined with custom tools (like a location preset)"
      ],
      "metadata": {
        "id": "qGwqyIg7DlLQ"
      }
    },
    {
      "cell_type": "markdown",
      "source": [
        "Allow the Agent to Search for the web"
      ],
      "metadata": {
        "id": "SATwo_xyB8xO"
      }
    },
    {
      "cell_type": "code",
      "source": [
        "from smolagents import ToolCallingAgent, HfApiModel , DuckDuckGoSearchTool, tool # we introduce a built in tool\n",
        "\n",
        "# You can choose to not pass any model_id to HfApiModel to use a default free\n",
        "# model Qwen/Qwen2.5-Coder-32B-Instruct\n",
        "model = HfApiModel()\n",
        "\n",
        "# Initialize the built in search tool\n",
        "web_search = DuckDuckGoSearchTool()\n",
        "\n",
        "# Custom tool that returns the location you are located ( We use be using\n",
        "# location logic in production)\n",
        "@tool\n",
        "def get_location() -> str:\n",
        "    \"\"\"\n",
        "    Returns the default location for event planning.\n",
        "    \"\"\"\n",
        "    return \"San Antonio, Texas\""
      ],
      "metadata": {
        "id": "wisfU83cFLji"
      },
      "execution_count": 4,
      "outputs": []
    },
    {
      "cell_type": "markdown",
      "source": [
        "And then you bring it all together!"
      ],
      "metadata": {
        "id": "GMv4Qr4GCIvx"
      }
    },
    {
      "cell_type": "code",
      "source": [
        "agent = ToolCallingAgent(tools=[web_search, get_location], model=model)\n",
        "agent.run(\"Whats a good indoor venue for a tech focused event with free wifi in my city?\")"
      ],
      "metadata": {
        "colab": {
          "base_uri": "https://localhost:8080/",
          "height": 1000
        },
        "id": "dD3q1MQuCMzx",
        "outputId": "93f99a72-00fa-431c-c3e7-cfa5aab1d04a"
      },
      "execution_count": 6,
      "outputs": [
        {
          "output_type": "display_data",
          "data": {
            "text/plain": [
              "\u001b[38;2;212;183;2m╭─\u001b[0m\u001b[38;2;212;183;2m───────────────────────────────────────────────────\u001b[0m\u001b[38;2;212;183;2m \u001b[0m\u001b[1;38;2;212;183;2mNew run\u001b[0m\u001b[38;2;212;183;2m \u001b[0m\u001b[38;2;212;183;2m───────────────────────────────────────────────────\u001b[0m\u001b[38;2;212;183;2m─╮\u001b[0m\n",
              "\u001b[38;2;212;183;2m│\u001b[0m                                                                                                                 \u001b[38;2;212;183;2m│\u001b[0m\n",
              "\u001b[38;2;212;183;2m│\u001b[0m \u001b[1mWhats a good indoor venue for a tech focused event with free wifi in my city?\u001b[0m                                   \u001b[38;2;212;183;2m│\u001b[0m\n",
              "\u001b[38;2;212;183;2m│\u001b[0m                                                                                                                 \u001b[38;2;212;183;2m│\u001b[0m\n",
              "\u001b[38;2;212;183;2m╰─\u001b[0m\u001b[38;2;212;183;2m HfApiModel - Qwen/Qwen2.5-Coder-32B-Instruct \u001b[0m\u001b[38;2;212;183;2m─────────────────────────────────────────────────────────────────\u001b[0m\u001b[38;2;212;183;2m─╯\u001b[0m\n"
            ],
            "text/html": [
              "<pre style=\"white-space:pre;overflow-x:auto;line-height:normal;font-family:Menlo,'DejaVu Sans Mono',consolas,'Courier New',monospace\"><span style=\"color: #d4b702; text-decoration-color: #d4b702\">╭──────────────────────────────────────────────────── </span><span style=\"color: #d4b702; text-decoration-color: #d4b702; font-weight: bold\">New run</span><span style=\"color: #d4b702; text-decoration-color: #d4b702\"> ────────────────────────────────────────────────────╮</span>\n",
              "<span style=\"color: #d4b702; text-decoration-color: #d4b702\">│</span>                                                                                                                 <span style=\"color: #d4b702; text-decoration-color: #d4b702\">│</span>\n",
              "<span style=\"color: #d4b702; text-decoration-color: #d4b702\">│</span> <span style=\"font-weight: bold\">Whats a good indoor venue for a tech focused event with free wifi in my city?</span>                                   <span style=\"color: #d4b702; text-decoration-color: #d4b702\">│</span>\n",
              "<span style=\"color: #d4b702; text-decoration-color: #d4b702\">│</span>                                                                                                                 <span style=\"color: #d4b702; text-decoration-color: #d4b702\">│</span>\n",
              "<span style=\"color: #d4b702; text-decoration-color: #d4b702\">╰─ HfApiModel - Qwen/Qwen2.5-Coder-32B-Instruct ──────────────────────────────────────────────────────────────────╯</span>\n",
              "</pre>\n"
            ]
          },
          "metadata": {}
        },
        {
          "output_type": "display_data",
          "data": {
            "text/plain": [
              "\u001b[38;2;212;183;2m━━━━━━━━━━━━━━━━━━━━━━━━━━━━━━━━━━━━━━━━━━━━━━━━━━━━━ \u001b[0m\u001b[1mStep \u001b[0m\u001b[1;36m1\u001b[0m\u001b[38;2;212;183;2m ━━━━━━━━━━━━━━━━━━━━━━━━━━━━━━━━━━━━━━━━━━━━━━━━━━━━━━\u001b[0m\n"
            ],
            "text/html": [
              "<pre style=\"white-space:pre;overflow-x:auto;line-height:normal;font-family:Menlo,'DejaVu Sans Mono',consolas,'Courier New',monospace\"><span style=\"color: #d4b702; text-decoration-color: #d4b702\">━━━━━━━━━━━━━━━━━━━━━━━━━━━━━━━━━━━━━━━━━━━━━━━━━━━━━ </span><span style=\"font-weight: bold\">Step </span><span style=\"color: #008080; text-decoration-color: #008080; font-weight: bold\">1</span><span style=\"color: #d4b702; text-decoration-color: #d4b702\"> ━━━━━━━━━━━━━━━━━━━━━━━━━━━━━━━━━━━━━━━━━━━━━━━━━━━━━━</span>\n",
              "</pre>\n"
            ]
          },
          "metadata": {}
        },
        {
          "output_type": "display_data",
          "data": {
            "text/plain": [
              "╭─────────────────────────────────────────────────────────────────────────────────────────────────────────────────╮\n",
              "│ Calling tool: 'get_location' with arguments: {}                                                                 │\n",
              "╰─────────────────────────────────────────────────────────────────────────────────────────────────────────────────╯\n"
            ],
            "text/html": [
              "<pre style=\"white-space:pre;overflow-x:auto;line-height:normal;font-family:Menlo,'DejaVu Sans Mono',consolas,'Courier New',monospace\">╭─────────────────────────────────────────────────────────────────────────────────────────────────────────────────╮\n",
              "│ Calling tool: 'get_location' with arguments: {}                                                                 │\n",
              "╰─────────────────────────────────────────────────────────────────────────────────────────────────────────────────╯\n",
              "</pre>\n"
            ]
          },
          "metadata": {}
        },
        {
          "output_type": "display_data",
          "data": {
            "text/plain": [
              "Observations: San Antonio, Texas\n"
            ],
            "text/html": [
              "<pre style=\"white-space:pre;overflow-x:auto;line-height:normal;font-family:Menlo,'DejaVu Sans Mono',consolas,'Courier New',monospace\">Observations: San Antonio, Texas\n",
              "</pre>\n"
            ]
          },
          "metadata": {}
        },
        {
          "output_type": "display_data",
          "data": {
            "text/plain": [
              "\u001b[2m[Step 1: Duration 2.24 seconds| Input tokens: 1,236 | Output tokens: 14]\u001b[0m\n"
            ],
            "text/html": [
              "<pre style=\"white-space:pre;overflow-x:auto;line-height:normal;font-family:Menlo,'DejaVu Sans Mono',consolas,'Courier New',monospace\"><span style=\"color: #7f7f7f; text-decoration-color: #7f7f7f\">[Step 1: Duration 2.24 seconds| Input tokens: 1,236 | Output tokens: 14]</span>\n",
              "</pre>\n"
            ]
          },
          "metadata": {}
        },
        {
          "output_type": "display_data",
          "data": {
            "text/plain": [
              "\u001b[38;2;212;183;2m━━━━━━━━━━━━━━━━━━━━━━━━━━━━━━━━━━━━━━━━━━━━━━━━━━━━━ \u001b[0m\u001b[1mStep \u001b[0m\u001b[1;36m2\u001b[0m\u001b[38;2;212;183;2m ━━━━━━━━━━━━━━━━━━━━━━━━━━━━━━━━━━━━━━━━━━━━━━━━━━━━━━\u001b[0m\n"
            ],
            "text/html": [
              "<pre style=\"white-space:pre;overflow-x:auto;line-height:normal;font-family:Menlo,'DejaVu Sans Mono',consolas,'Courier New',monospace\"><span style=\"color: #d4b702; text-decoration-color: #d4b702\">━━━━━━━━━━━━━━━━━━━━━━━━━━━━━━━━━━━━━━━━━━━━━━━━━━━━━ </span><span style=\"font-weight: bold\">Step </span><span style=\"color: #008080; text-decoration-color: #008080; font-weight: bold\">2</span><span style=\"color: #d4b702; text-decoration-color: #d4b702\"> ━━━━━━━━━━━━━━━━━━━━━━━━━━━━━━━━━━━━━━━━━━━━━━━━━━━━━━</span>\n",
              "</pre>\n"
            ]
          },
          "metadata": {}
        },
        {
          "output_type": "display_data",
          "data": {
            "text/plain": [
              "╭─────────────────────────────────────────────────────────────────────────────────────────────────────────────────╮\n",
              "│ Calling tool: 'web_search' with arguments: {'query': 'Tech focused indoor venue with free wifi in San Antonio,  │\n",
              "│ Texas'}                                                                                                         │\n",
              "╰─────────────────────────────────────────────────────────────────────────────────────────────────────────────────╯\n"
            ],
            "text/html": [
              "<pre style=\"white-space:pre;overflow-x:auto;line-height:normal;font-family:Menlo,'DejaVu Sans Mono',consolas,'Courier New',monospace\">╭─────────────────────────────────────────────────────────────────────────────────────────────────────────────────╮\n",
              "│ Calling tool: 'web_search' with arguments: {'query': 'Tech focused indoor venue with free wifi in San Antonio,  │\n",
              "│ Texas'}                                                                                                         │\n",
              "╰─────────────────────────────────────────────────────────────────────────────────────────────────────────────────╯\n",
              "</pre>\n"
            ]
          },
          "metadata": {}
        },
        {
          "output_type": "display_data",
          "data": {
            "text/plain": [
              "Observations: ## Search Results\n",
              "\n",
              "|\u001b[1;36m19\u001b[0m Best Networking Event Venues for Rent in San Antonio, TX - \n",
              "Peerspace\u001b[1m]\u001b[0m\u001b[1m(\u001b[0m\u001b[4;94mhttps://www.peerspace.com/venues/san-antonio--tx/networking-venue\u001b[0m\u001b[4;94m)\u001b[0m\n",
              "It is Wi-Fi ready and comes equipped with an \u001b[1;36m80\u001b[0m inch large screen T.V. to efficiently and quickly connect for video\n",
              "conferencing\u001b[33m...\u001b[0m.. Show more. from $\u001b[1;36m35\u001b[0m \u001b[35m/\u001b[0m\u001b[95mhr.\u001b[0m \u001b[1;36m6\u001b[0m-Person, Modern Meeting Room for Small Events. Northwest Side, San \n",
              "Antonio, TX \u001b[33m...\u001b[0m Networking event venues in San Antonio average $\u001b[1;36m92\u001b[0m per hour to rent, but it's easy to spend less or\n",
              "\u001b[33m...\u001b[0m\n",
              "\n",
              "|Find Indoor Party venues for rent in San Antonio, TX - \n",
              "Giggster\u001b[1m]\u001b[0m\u001b[1m(\u001b[0m\u001b[4;94mhttps://giggster.com/find/san-antonio--tx/indoor-party\u001b[0m\u001b[4;94m)\u001b[0m\n",
              "Find Indoor Party venues in San Antonio, TX - popular venues for a Indoor Party. The BEST venues in San Antonio, \n",
              "TX, book now! \u001b[33m...\u001b[0m Wifi and parking in downtown included \u001b[1m(\u001b[0m$\u001b[1;36m25\u001b[0m value per car!\u001b[1m)\u001b[0m Additional rental items are video \n",
              "monitor. \u001b[33m...\u001b[0m San Antonio is the second largest city in Texas and is known for its vibrant culture and diverse \n",
              "population \u001b[33m...\u001b[0m\n",
              "\n",
              "|THE BEST \u001b[1;36m10\u001b[0m Venues & Event Spaces in SAN ANTONIO, TX - \n",
              "Yelp\u001b[1m]\u001b[0m\u001b[1m(\u001b[0m\u001b[4;94mhttps://www.yelp.com/search?\u001b[0m\u001b[4;94mcflt\u001b[0m\u001b[4;94m=\u001b[0m\u001b[4;94mvenues\u001b[0m\u001b[4;94m&\u001b[0m\u001b[4;94mfind_loc\u001b[0m\u001b[4;94m=\u001b[0m\u001b[4;94msan\u001b[0m\u001b[4;94m+antonio,+TX\u001b[0m\u001b[4;94m)\u001b[0m\n",
              "Free Wi-Fi. Open to All. Offers Takeout. Music: Live. Outdoor Seating. Music: DJ. See all. \u001b[33m...\u001b[0m Free Wedding Venues \n",
              "in San Antonio, Texas. Hall Rental in San Antonio, Texas. Landscape Architects or Designers in San Antonio, Texas \n",
              "\u001b[33m...\u001b[0m These are the best wedding venues in San Antonio, TX: Hyatt Regency Hill Country Resort And Spa. Witte Museum.\n",
              "\n",
              "|\u001b[1;36m19\u001b[0m Top Corporate Event Venues in San Antonio, TX - \n",
              "teambuilding.com\u001b[1m]\u001b[0m\u001b[1m(\u001b[0m\u001b[4;94mhttps://teambuilding.com/blog/corporate-event-venues-san-antonio-tx\u001b[0m\u001b[4;94m)\u001b[0m\n",
              "Here is our list of the best corporate event venues in San Antonio, Texas. \u001b[33m...\u001b[0m and rental packages allow for indoor\n",
              "or outdoor events. Host your next event at the Witte \u001b[33m...\u001b[0m with valet parking, WiFi, and audio video equipment \n",
              "available, all you have to do is show up. Check out Zocca. \u001b[1;36m12\u001b[0m. Tower of the Americas. Tower of the Americas is one \n",
              "of the \u001b[33m...\u001b[0m\n",
              "\n",
              "|Top \u001b[1;36m10\u001b[0m Best Venues & Event Spaces Near San Antonio, Texas - \n",
              "Yelp\u001b[1m]\u001b[0m\u001b[1m(\u001b[0m\u001b[4;94mhttps://www.yelp.com/search?\u001b[0m\u001b[4;94mfind_desc\u001b[0m\u001b[4;94m=\u001b[0m\u001b[4;94mVenues\u001b[0m\u001b[4;94m+&+Event+Spaces&\u001b[0m\u001b[4;94mfind_loc\u001b[0m\u001b[4;94m=\u001b[0m\u001b[4;94mSan\u001b[0m\u001b[4;94m+Antonio,+TX+\u001b[0m\u001b[4;94m)\u001b[0m\n",
              "Top \u001b[1;36m10\u001b[0m Best Venues & Event Spaces in San Antonio, TX - January \u001b[1;36m2025\u001b[0m - Yelp - San Antonio Glasshouse, Pearl Studio, \n",
              "The Veranda, Flower In Flour, Magnolia Halle, Freight, Ivy Hall, Villa di Campagna, Rio Plaza, Los Patios \u001b[33m...\u001b[0m Free \n",
              "Wi-Fi. Open to All. Offers Takeout. Music: Live. Outdoor Seating. Music: DJ. \u001b[33m...\u001b[0m Biking \u001b[1m(\u001b[0m\u001b[1;36m2\u001b[0m mi.\u001b[1m)\u001b[0m Walking \u001b[1m(\u001b[0m\u001b[1;36m1\u001b[0m mi \u001b[33m...\u001b[0m\n",
              "\n",
              "|Top \u001b[1;36m10\u001b[0m Best free event space Near San Antonio, Texas - \n",
              "Yelp\u001b[1m]\u001b[0m\u001b[1m(\u001b[0m\u001b[4;94mhttps://www.yelp.com/search?\u001b[0m\u001b[4;94mfind_desc\u001b[0m\u001b[4;94m=\u001b[0m\u001b[4;94mfree\u001b[0m\u001b[4;94m+event+space&\u001b[0m\u001b[4;94mfind_loc\u001b[0m\u001b[4;94m=\u001b[0m\u001b[4;94mSan\u001b[0m\u001b[4;94m+Antonio,+TX\u001b[0m\u001b[4;94m)\u001b[0m\n",
              "Top \u001b[1;36m10\u001b[0m Best Free Event Space in San Antonio, TX - March \u001b[1;36m2025\u001b[0m - Yelp - San Antonio Glasshouse, Los Patios, Flower In\n",
              "Flour, Pearl Studio, San Antonio Meeting Center, The Impact Guild, Breaking Down Walls, Magnolia Gardens on Main, \n",
              "Maeve, TriPoint A Center for Life \u001b[33m...\u001b[0m Free Wedding Venues in San Antonio, Texas. Private Dinner Party Venues in San\n",
              "\u001b[33m...\u001b[0m\n",
              "\n",
              "|Rent Venues & Event Locations in San Antonio, TX - EventUp\u001b[1m]\u001b[0m\u001b[1m(\u001b[0m\u001b[4;94mhttps://eventup.com/venues/san-antonio-tx/\u001b[0m\u001b[4;94m)\u001b[0m\n",
              "Rent event spaces and party venues in San Antonio, TX. Find the best event locations in San Antonio for your \n",
              "wedding, corporate event, or party on EventUp.\n",
              "\n",
              "|\u001b[1;36m36\u001b[0m Best Meeting Rooms for Rent in San Antonio, TX | \n",
              "Peerspace\u001b[1m]\u001b[0m\u001b[1m(\u001b[0m\u001b[4;94mhttps://www.peerspace.com/venues/san-antonio--tx/meeting-room\u001b[0m\u001b[4;94m)\u001b[0m\n",
              "Meeting rooms in San Antonio average $\u001b[1;36m37\u001b[0m per hour to rent, but it's easy to spend less or more depending on what \n",
              "you're looking for. How popular are meeting rooms in San Antonio? Our local hosts have welcomed \u001b[1;36m544\u001b[0m+ people into \n",
              "their meeting rooms with reviews averaging \u001b[1;36m4.86\u001b[0m stars.\n",
              "\n",
              "|The \u001b[1;36m10\u001b[0m bestevent venues in San Antonio - \n",
              "eventplanner.net\u001b[1m]\u001b[0m\u001b[1m(\u001b[0m\u001b[4;94mhttps://www.eventplanner.net/event-venue-rental/in-US78201-san-antonio.html\u001b[0m\u001b[4;94m)\u001b[0m\n",
              "Find unique event venue in San Antonio on eventplanner.net. Read reviews of the best event venues in San Antonio! \n",
              "\u001b[33m...\u001b[0m Write review San Antonio, Texas \u001b[1m(\u001b[0m\u001b[1;36m10.5\u001b[0m km\u001b[1m)\u001b[0m Norris Conference Center is a high-quality and flexible conference & \n",
              "event space in San Antonio. No Photo Available. Exclusive Reception Hall. \u001b[33m...\u001b[0m Wi-Fi. free; paid; Categories\n",
              "\n",
              "|The \u001b[1;36m16\u001b[0m Best Event Spaces for Rent in San Antonio, TX - Tagvenue\u001b[1m]\u001b[0m\u001b[1m(\u001b[0m\u001b[4;94mhttps://www.tagvenue.com/us/city/san-antonio\u001b[0m\u001b[4;94m)\u001b[0m\n",
              "How much does it cost to rent an event space in San Antonio, Texas? While prices vary largely, there are definitely\n",
              "affordable venue rental options in San Antonio, as well as some more premium-priced event spaces! On average, \n",
              "rental fees can vary anywhere from $\u001b[1;36m500\u001b[0m to $\u001b[1;36m20\u001b[0m,\u001b[1;36m000\u001b[0m+ per session, while hourly rates tend to average around $\u001b[1;36m100\u001b[0m.\n"
            ],
            "text/html": [
              "<pre style=\"white-space:pre;overflow-x:auto;line-height:normal;font-family:Menlo,'DejaVu Sans Mono',consolas,'Courier New',monospace\">Observations: ## Search Results\n",
              "\n",
              "|<span style=\"color: #008080; text-decoration-color: #008080; font-weight: bold\">19</span> Best Networking Event Venues for Rent in San Antonio, TX - \n",
              "Peerspace<span style=\"font-weight: bold\">](</span><span style=\"color: #0000ff; text-decoration-color: #0000ff; text-decoration: underline\">https://www.peerspace.com/venues/san-antonio--tx/networking-venue)</span>\n",
              "It is Wi-Fi ready and comes equipped with an <span style=\"color: #008080; text-decoration-color: #008080; font-weight: bold\">80</span> inch large screen T.V. to efficiently and quickly connect for video\n",
              "conferencing<span style=\"color: #808000; text-decoration-color: #808000\">...</span>.. Show more. from $<span style=\"color: #008080; text-decoration-color: #008080; font-weight: bold\">35</span> <span style=\"color: #800080; text-decoration-color: #800080\">/</span><span style=\"color: #ff00ff; text-decoration-color: #ff00ff\">hr.</span> <span style=\"color: #008080; text-decoration-color: #008080; font-weight: bold\">6</span>-Person, Modern Meeting Room for Small Events. Northwest Side, San \n",
              "Antonio, TX <span style=\"color: #808000; text-decoration-color: #808000\">...</span> Networking event venues in San Antonio average $<span style=\"color: #008080; text-decoration-color: #008080; font-weight: bold\">92</span> per hour to rent, but it's easy to spend less or\n",
              "<span style=\"color: #808000; text-decoration-color: #808000\">...</span>\n",
              "\n",
              "|Find Indoor Party venues for rent in San Antonio, TX - \n",
              "Giggster<span style=\"font-weight: bold\">](</span><span style=\"color: #0000ff; text-decoration-color: #0000ff; text-decoration: underline\">https://giggster.com/find/san-antonio--tx/indoor-party)</span>\n",
              "Find Indoor Party venues in San Antonio, TX - popular venues for a Indoor Party. The BEST venues in San Antonio, \n",
              "TX, book now! <span style=\"color: #808000; text-decoration-color: #808000\">...</span> Wifi and parking in downtown included <span style=\"font-weight: bold\">(</span>$<span style=\"color: #008080; text-decoration-color: #008080; font-weight: bold\">25</span> value per car!<span style=\"font-weight: bold\">)</span> Additional rental items are video \n",
              "monitor. <span style=\"color: #808000; text-decoration-color: #808000\">...</span> San Antonio is the second largest city in Texas and is known for its vibrant culture and diverse \n",
              "population <span style=\"color: #808000; text-decoration-color: #808000\">...</span>\n",
              "\n",
              "|THE BEST <span style=\"color: #008080; text-decoration-color: #008080; font-weight: bold\">10</span> Venues &amp; Event Spaces in SAN ANTONIO, TX - \n",
              "Yelp<span style=\"font-weight: bold\">](</span><span style=\"color: #0000ff; text-decoration-color: #0000ff; text-decoration: underline\">https://www.yelp.com/search?cflt=venues&amp;find_loc=san+antonio,+TX)</span>\n",
              "Free Wi-Fi. Open to All. Offers Takeout. Music: Live. Outdoor Seating. Music: DJ. See all. <span style=\"color: #808000; text-decoration-color: #808000\">...</span> Free Wedding Venues \n",
              "in San Antonio, Texas. Hall Rental in San Antonio, Texas. Landscape Architects or Designers in San Antonio, Texas \n",
              "<span style=\"color: #808000; text-decoration-color: #808000\">...</span> These are the best wedding venues in San Antonio, TX: Hyatt Regency Hill Country Resort And Spa. Witte Museum.\n",
              "\n",
              "|<span style=\"color: #008080; text-decoration-color: #008080; font-weight: bold\">19</span> Top Corporate Event Venues in San Antonio, TX - \n",
              "teambuilding.com<span style=\"font-weight: bold\">](</span><span style=\"color: #0000ff; text-decoration-color: #0000ff; text-decoration: underline\">https://teambuilding.com/blog/corporate-event-venues-san-antonio-tx)</span>\n",
              "Here is our list of the best corporate event venues in San Antonio, Texas. <span style=\"color: #808000; text-decoration-color: #808000\">...</span> and rental packages allow for indoor\n",
              "or outdoor events. Host your next event at the Witte <span style=\"color: #808000; text-decoration-color: #808000\">...</span> with valet parking, WiFi, and audio video equipment \n",
              "available, all you have to do is show up. Check out Zocca. <span style=\"color: #008080; text-decoration-color: #008080; font-weight: bold\">12</span>. Tower of the Americas. Tower of the Americas is one \n",
              "of the <span style=\"color: #808000; text-decoration-color: #808000\">...</span>\n",
              "\n",
              "|Top <span style=\"color: #008080; text-decoration-color: #008080; font-weight: bold\">10</span> Best Venues &amp; Event Spaces Near San Antonio, Texas - \n",
              "Yelp<span style=\"font-weight: bold\">](</span><span style=\"color: #0000ff; text-decoration-color: #0000ff; text-decoration: underline\">https://www.yelp.com/search?find_desc=Venues+&amp;+Event+Spaces&amp;find_loc=San+Antonio,+TX+)</span>\n",
              "Top <span style=\"color: #008080; text-decoration-color: #008080; font-weight: bold\">10</span> Best Venues &amp; Event Spaces in San Antonio, TX - January <span style=\"color: #008080; text-decoration-color: #008080; font-weight: bold\">2025</span> - Yelp - San Antonio Glasshouse, Pearl Studio, \n",
              "The Veranda, Flower In Flour, Magnolia Halle, Freight, Ivy Hall, Villa di Campagna, Rio Plaza, Los Patios <span style=\"color: #808000; text-decoration-color: #808000\">...</span> Free \n",
              "Wi-Fi. Open to All. Offers Takeout. Music: Live. Outdoor Seating. Music: DJ. <span style=\"color: #808000; text-decoration-color: #808000\">...</span> Biking <span style=\"font-weight: bold\">(</span><span style=\"color: #008080; text-decoration-color: #008080; font-weight: bold\">2</span> mi.<span style=\"font-weight: bold\">)</span> Walking <span style=\"font-weight: bold\">(</span><span style=\"color: #008080; text-decoration-color: #008080; font-weight: bold\">1</span> mi <span style=\"color: #808000; text-decoration-color: #808000\">...</span>\n",
              "\n",
              "|Top <span style=\"color: #008080; text-decoration-color: #008080; font-weight: bold\">10</span> Best free event space Near San Antonio, Texas - \n",
              "Yelp<span style=\"font-weight: bold\">](</span><span style=\"color: #0000ff; text-decoration-color: #0000ff; text-decoration: underline\">https://www.yelp.com/search?find_desc=free+event+space&amp;find_loc=San+Antonio,+TX)</span>\n",
              "Top <span style=\"color: #008080; text-decoration-color: #008080; font-weight: bold\">10</span> Best Free Event Space in San Antonio, TX - March <span style=\"color: #008080; text-decoration-color: #008080; font-weight: bold\">2025</span> - Yelp - San Antonio Glasshouse, Los Patios, Flower In\n",
              "Flour, Pearl Studio, San Antonio Meeting Center, The Impact Guild, Breaking Down Walls, Magnolia Gardens on Main, \n",
              "Maeve, TriPoint A Center for Life <span style=\"color: #808000; text-decoration-color: #808000\">...</span> Free Wedding Venues in San Antonio, Texas. Private Dinner Party Venues in San\n",
              "<span style=\"color: #808000; text-decoration-color: #808000\">...</span>\n",
              "\n",
              "|Rent Venues &amp; Event Locations in San Antonio, TX - EventUp<span style=\"font-weight: bold\">](</span><span style=\"color: #0000ff; text-decoration-color: #0000ff; text-decoration: underline\">https://eventup.com/venues/san-antonio-tx/)</span>\n",
              "Rent event spaces and party venues in San Antonio, TX. Find the best event locations in San Antonio for your \n",
              "wedding, corporate event, or party on EventUp.\n",
              "\n",
              "|<span style=\"color: #008080; text-decoration-color: #008080; font-weight: bold\">36</span> Best Meeting Rooms for Rent in San Antonio, TX | \n",
              "Peerspace<span style=\"font-weight: bold\">](</span><span style=\"color: #0000ff; text-decoration-color: #0000ff; text-decoration: underline\">https://www.peerspace.com/venues/san-antonio--tx/meeting-room)</span>\n",
              "Meeting rooms in San Antonio average $<span style=\"color: #008080; text-decoration-color: #008080; font-weight: bold\">37</span> per hour to rent, but it's easy to spend less or more depending on what \n",
              "you're looking for. How popular are meeting rooms in San Antonio? Our local hosts have welcomed <span style=\"color: #008080; text-decoration-color: #008080; font-weight: bold\">544</span>+ people into \n",
              "their meeting rooms with reviews averaging <span style=\"color: #008080; text-decoration-color: #008080; font-weight: bold\">4.86</span> stars.\n",
              "\n",
              "|The <span style=\"color: #008080; text-decoration-color: #008080; font-weight: bold\">10</span> bestevent venues in San Antonio - \n",
              "eventplanner.net<span style=\"font-weight: bold\">](</span><span style=\"color: #0000ff; text-decoration-color: #0000ff; text-decoration: underline\">https://www.eventplanner.net/event-venue-rental/in-US78201-san-antonio.html)</span>\n",
              "Find unique event venue in San Antonio on eventplanner.net. Read reviews of the best event venues in San Antonio! \n",
              "<span style=\"color: #808000; text-decoration-color: #808000\">...</span> Write review San Antonio, Texas <span style=\"font-weight: bold\">(</span><span style=\"color: #008080; text-decoration-color: #008080; font-weight: bold\">10.5</span> km<span style=\"font-weight: bold\">)</span> Norris Conference Center is a high-quality and flexible conference &amp; \n",
              "event space in San Antonio. No Photo Available. Exclusive Reception Hall. <span style=\"color: #808000; text-decoration-color: #808000\">...</span> Wi-Fi. free; paid; Categories\n",
              "\n",
              "|The <span style=\"color: #008080; text-decoration-color: #008080; font-weight: bold\">16</span> Best Event Spaces for Rent in San Antonio, TX - Tagvenue<span style=\"font-weight: bold\">](</span><span style=\"color: #0000ff; text-decoration-color: #0000ff; text-decoration: underline\">https://www.tagvenue.com/us/city/san-antonio)</span>\n",
              "How much does it cost to rent an event space in San Antonio, Texas? While prices vary largely, there are definitely\n",
              "affordable venue rental options in San Antonio, as well as some more premium-priced event spaces! On average, \n",
              "rental fees can vary anywhere from $<span style=\"color: #008080; text-decoration-color: #008080; font-weight: bold\">500</span> to $<span style=\"color: #008080; text-decoration-color: #008080; font-weight: bold\">20</span>,<span style=\"color: #008080; text-decoration-color: #008080; font-weight: bold\">000</span>+ per session, while hourly rates tend to average around $<span style=\"color: #008080; text-decoration-color: #008080; font-weight: bold\">100</span>.\n",
              "</pre>\n"
            ]
          },
          "metadata": {}
        },
        {
          "output_type": "display_data",
          "data": {
            "text/plain": [
              "\u001b[2m[Step 2: Duration 2.80 seconds| Input tokens: 2,528 | Output tokens: 42]\u001b[0m\n"
            ],
            "text/html": [
              "<pre style=\"white-space:pre;overflow-x:auto;line-height:normal;font-family:Menlo,'DejaVu Sans Mono',consolas,'Courier New',monospace\"><span style=\"color: #7f7f7f; text-decoration-color: #7f7f7f\">[Step 2: Duration 2.80 seconds| Input tokens: 2,528 | Output tokens: 42]</span>\n",
              "</pre>\n"
            ]
          },
          "metadata": {}
        },
        {
          "output_type": "display_data",
          "data": {
            "text/plain": [
              "\u001b[38;2;212;183;2m━━━━━━━━━━━━━━━━━━━━━━━━━━━━━━━━━━━━━━━━━━━━━━━━━━━━━ \u001b[0m\u001b[1mStep \u001b[0m\u001b[1;36m3\u001b[0m\u001b[38;2;212;183;2m ━━━━━━━━━━━━━━━━━━━━━━━━━━━━━━━━━━━━━━━━━━━━━━━━━━━━━━\u001b[0m\n"
            ],
            "text/html": [
              "<pre style=\"white-space:pre;overflow-x:auto;line-height:normal;font-family:Menlo,'DejaVu Sans Mono',consolas,'Courier New',monospace\"><span style=\"color: #d4b702; text-decoration-color: #d4b702\">━━━━━━━━━━━━━━━━━━━━━━━━━━━━━━━━━━━━━━━━━━━━━━━━━━━━━ </span><span style=\"font-weight: bold\">Step </span><span style=\"color: #008080; text-decoration-color: #008080; font-weight: bold\">3</span><span style=\"color: #d4b702; text-decoration-color: #d4b702\"> ━━━━━━━━━━━━━━━━━━━━━━━━━━━━━━━━━━━━━━━━━━━━━━━━━━━━━━</span>\n",
              "</pre>\n"
            ]
          },
          "metadata": {}
        },
        {
          "output_type": "display_data",
          "data": {
            "text/plain": [
              "╭─────────────────────────────────────────────────────────────────────────────────────────────────────────────────╮\n",
              "│ Calling tool: 'final_answer' with arguments: {'answer': 'Based on the search results, several venues in San     │\n",
              "│ Antonio, Texas offer free Wi-Fi and are suitable for tech-focused events. Some notable options include the      │\n",
              "│ Witte Museum, Pearl Studio, and San Antonio Glasshouse. These venues provide modern amenities, including        │\n",
              "│ technology infrastructure and free internet access, making them ideal choices for hosting events.'}             │\n",
              "╰─────────────────────────────────────────────────────────────────────────────────────────────────────────────────╯\n"
            ],
            "text/html": [
              "<pre style=\"white-space:pre;overflow-x:auto;line-height:normal;font-family:Menlo,'DejaVu Sans Mono',consolas,'Courier New',monospace\">╭─────────────────────────────────────────────────────────────────────────────────────────────────────────────────╮\n",
              "│ Calling tool: 'final_answer' with arguments: {'answer': 'Based on the search results, several venues in San     │\n",
              "│ Antonio, Texas offer free Wi-Fi and are suitable for tech-focused events. Some notable options include the      │\n",
              "│ Witte Museum, Pearl Studio, and San Antonio Glasshouse. These venues provide modern amenities, including        │\n",
              "│ technology infrastructure and free internet access, making them ideal choices for hosting events.'}             │\n",
              "╰─────────────────────────────────────────────────────────────────────────────────────────────────────────────────╯\n",
              "</pre>\n"
            ]
          },
          "metadata": {}
        },
        {
          "output_type": "display_data",
          "data": {
            "text/plain": [
              "\u001b[1;38;2;212;183;2mFinal answer: Based on the search results, several venues in San Antonio, Texas offer free Wi-Fi and are suitable \u001b[0m\n",
              "\u001b[1;38;2;212;183;2mfor tech-focused events. Some notable options include the Witte Museum, Pearl Studio, and San Antonio Glasshouse. \u001b[0m\n",
              "\u001b[1;38;2;212;183;2mThese venues provide modern amenities, including technology infrastructure and free internet access, making them \u001b[0m\n",
              "\u001b[1;38;2;212;183;2mideal choices for hosting events.\u001b[0m\n"
            ],
            "text/html": [
              "<pre style=\"white-space:pre;overflow-x:auto;line-height:normal;font-family:Menlo,'DejaVu Sans Mono',consolas,'Courier New',monospace\"><span style=\"color: #d4b702; text-decoration-color: #d4b702; font-weight: bold\">Final answer: Based on the search results, several venues in San Antonio, Texas offer free Wi-Fi and are suitable </span>\n",
              "<span style=\"color: #d4b702; text-decoration-color: #d4b702; font-weight: bold\">for tech-focused events. Some notable options include the Witte Museum, Pearl Studio, and San Antonio Glasshouse. </span>\n",
              "<span style=\"color: #d4b702; text-decoration-color: #d4b702; font-weight: bold\">These venues provide modern amenities, including technology infrastructure and free internet access, making them </span>\n",
              "<span style=\"color: #d4b702; text-decoration-color: #d4b702; font-weight: bold\">ideal choices for hosting events.</span>\n",
              "</pre>\n"
            ]
          },
          "metadata": {}
        },
        {
          "output_type": "display_data",
          "data": {
            "text/plain": [
              "\u001b[2m[Step 3: Duration 7.88 seconds| Input tokens: 5,043 | Output tokens: 123]\u001b[0m\n"
            ],
            "text/html": [
              "<pre style=\"white-space:pre;overflow-x:auto;line-height:normal;font-family:Menlo,'DejaVu Sans Mono',consolas,'Courier New',monospace\"><span style=\"color: #7f7f7f; text-decoration-color: #7f7f7f\">[Step 3: Duration 7.88 seconds| Input tokens: 5,043 | Output tokens: 123]</span>\n",
              "</pre>\n"
            ]
          },
          "metadata": {}
        },
        {
          "output_type": "execute_result",
          "data": {
            "text/plain": [
              "'Based on the search results, several venues in San Antonio, Texas offer free Wi-Fi and are suitable for tech-focused events. Some notable options include the Witte Museum, Pearl Studio, and San Antonio Glasshouse. These venues provide modern amenities, including technology infrastructure and free internet access, making them ideal choices for hosting events.'"
            ],
            "application/vnd.google.colaboratory.intrinsic+json": {
              "type": "string"
            }
          },
          "metadata": {},
          "execution_count": 6
        }
      ]
    },
    {
      "cell_type": "markdown",
      "source": [
        "## Tool 2: Image Generation\n",
        "Now that agent can search for venues, let's give it the ability to generate promo visuals for the event.\n",
        "\n",
        "SmolAgents supports loading third-party tools like text-to-image generators. In this example, we use the open-source model hosted at m-ric/text-to-image, which supports prompts like “minimal line art” or “AI poster design.\n",
        "This tool:\n",
        "* Generates images from text prompts\n",
        "* Hosted on hugging face - no setup or api needed."
      ],
      "metadata": {
        "id": "wr-XRvAZHgvy"
      }
    },
    {
      "cell_type": "code",
      "source": [
        "from smolagents import ToolCallingAgent, HfApiModel , DuckDuckGoSearchTool , load_tool\n",
        "image_generation_tool = load_tool(\"m-ric/text-to-image\", trust_remote_code=True)\n"
      ],
      "metadata": {
        "id": "9H_8ZW2JHiQ2"
      },
      "execution_count": null,
      "outputs": []
    },
    {
      "cell_type": "code",
      "source": [
        "agent = ToolCallingAgent(tools=[image_generation_tool], model=model)\n",
        "agent.run(\"Provide minimal line art promo for my event, the theme is automating boring things with AI Agents.\")"
      ],
      "metadata": {
        "id": "i1Ff4k_BUphN"
      },
      "execution_count": null,
      "outputs": []
    },
    {
      "cell_type": "markdown",
      "source": [
        "## Tool 3: LinkedIn Post Generation\n",
        "\n",
        "With an event idea, venue, and promo visuals in place, its time to get the word out! This tool helps your AI agent write a professional Linkedin Post to promote the event.\n",
        "\n",
        "Instead of hardcoding a poat, this tool uses the LLM to generate a natural, dynamic social content based on structured inputs.\n",
        "\n",
        "This tool:\n",
        "* Generates a LinkedIn ready promo post.\n",
        "* Uses the same model to write the content via an inernal ToolCallingAgent\n",
        "* Accepts strucuturd fields like event name, date, and highlight"
      ],
      "metadata": {
        "id": "c3Fcl4eRHlS8"
      }
    },
    {
      "cell_type": "code",
      "source": [
        "from smolagents import ToolCallingAgent, HfApiModel, tool\n",
        "\n",
        "# Initialize the model\n",
        "model = HfApiModel(model=\"mistralai/Mixtral-8x7B-Instruct-v0.1\")\n",
        "\n",
        "# Define the post generator tool\n",
        "@tool\n",
        "def generate_post(event_name: str, date: str, location: str, highlight: str = \"networking and learning\") -> str:\n",
        "    \"\"\"\n",
        "    Generates a LinkedIn post for a tech event.\n",
        "\n",
        "    Args:\n",
        "        event_name: The name of the event.\n",
        "        date: The date of the event.\n",
        "        location: The city or venue where the event is held.\n",
        "        highlight: What's special about the event. Defaults to 'networking and learning'.\n",
        "    \"\"\"\n",
        "    sub_agent = ToolCallingAgent(model=model, tools=[])\n",
        "    prompt = (\n",
        "        f\"Write a LinkedIn post promoting an event.\\n\\n\"\n",
        "        f\"Event Name: {event_name}\\n\"\n",
        "        f\"Date: {date}\\n\"\n",
        "        f\"Location: {location}\\n\"\n",
        "        f\"Highlight: {highlight}\\n\\n\"\n",
        "        \"Make it sound professional, friendly, and engaging. Add relevant hashtags.\"\n",
        "    )\n",
        "    return sub_agent.run(prompt)"
      ],
      "metadata": {
        "id": "Y8ilVI6YHpFV"
      },
      "execution_count": 9,
      "outputs": []
    },
    {
      "cell_type": "code",
      "source": [
        "agent = ToolCallingAgent(tools=[generate_post], model=model)\n",
        "\n",
        "response = agent.run(\"Create a LinkedIn post for an event called AI Agent showcase at Geekdom on May the 10th. This event wraps up the ai workshops and talks to showcase what everyone built for the month\")\n",
        "print(response)"
      ],
      "metadata": {
        "id": "6gNvxi-o6dFl",
        "colab": {
          "base_uri": "https://localhost:8080/",
          "height": 1000
        },
        "outputId": "f6e079b1-cd35-4a0c-bd97-a9d8b5f83918"
      },
      "execution_count": 11,
      "outputs": [
        {
          "output_type": "display_data",
          "data": {
            "text/plain": [
              "\u001b[38;2;212;183;2m╭─\u001b[0m\u001b[38;2;212;183;2m───────────────────────────────────────────────────\u001b[0m\u001b[38;2;212;183;2m \u001b[0m\u001b[1;38;2;212;183;2mNew run\u001b[0m\u001b[38;2;212;183;2m \u001b[0m\u001b[38;2;212;183;2m───────────────────────────────────────────────────\u001b[0m\u001b[38;2;212;183;2m─╮\u001b[0m\n",
              "\u001b[38;2;212;183;2m│\u001b[0m                                                                                                                 \u001b[38;2;212;183;2m│\u001b[0m\n",
              "\u001b[38;2;212;183;2m│\u001b[0m \u001b[1mCreate a LinkedIn post for an event called AI Agent showcase at Geekdom on May the 10th. This event wraps up \u001b[0m   \u001b[38;2;212;183;2m│\u001b[0m\n",
              "\u001b[38;2;212;183;2m│\u001b[0m \u001b[1mthe ai workshops and talks to showcase what everyone built for the month\u001b[0m                                        \u001b[38;2;212;183;2m│\u001b[0m\n",
              "\u001b[38;2;212;183;2m│\u001b[0m                                                                                                                 \u001b[38;2;212;183;2m│\u001b[0m\n",
              "\u001b[38;2;212;183;2m╰─\u001b[0m\u001b[38;2;212;183;2m HfApiModel - Qwen/Qwen2.5-Coder-32B-Instruct \u001b[0m\u001b[38;2;212;183;2m─────────────────────────────────────────────────────────────────\u001b[0m\u001b[38;2;212;183;2m─╯\u001b[0m\n"
            ],
            "text/html": [
              "<pre style=\"white-space:pre;overflow-x:auto;line-height:normal;font-family:Menlo,'DejaVu Sans Mono',consolas,'Courier New',monospace\"><span style=\"color: #d4b702; text-decoration-color: #d4b702\">╭──────────────────────────────────────────────────── </span><span style=\"color: #d4b702; text-decoration-color: #d4b702; font-weight: bold\">New run</span><span style=\"color: #d4b702; text-decoration-color: #d4b702\"> ────────────────────────────────────────────────────╮</span>\n",
              "<span style=\"color: #d4b702; text-decoration-color: #d4b702\">│</span>                                                                                                                 <span style=\"color: #d4b702; text-decoration-color: #d4b702\">│</span>\n",
              "<span style=\"color: #d4b702; text-decoration-color: #d4b702\">│</span> <span style=\"font-weight: bold\">Create a LinkedIn post for an event called AI Agent showcase at Geekdom on May the 10th. This event wraps up </span>   <span style=\"color: #d4b702; text-decoration-color: #d4b702\">│</span>\n",
              "<span style=\"color: #d4b702; text-decoration-color: #d4b702\">│</span> <span style=\"font-weight: bold\">the ai workshops and talks to showcase what everyone built for the month</span>                                        <span style=\"color: #d4b702; text-decoration-color: #d4b702\">│</span>\n",
              "<span style=\"color: #d4b702; text-decoration-color: #d4b702\">│</span>                                                                                                                 <span style=\"color: #d4b702; text-decoration-color: #d4b702\">│</span>\n",
              "<span style=\"color: #d4b702; text-decoration-color: #d4b702\">╰─ HfApiModel - Qwen/Qwen2.5-Coder-32B-Instruct ──────────────────────────────────────────────────────────────────╯</span>\n",
              "</pre>\n"
            ]
          },
          "metadata": {}
        },
        {
          "output_type": "display_data",
          "data": {
            "text/plain": [
              "\u001b[38;2;212;183;2m━━━━━━━━━━━━━━━━━━━━━━━━━━━━━━━━━━━━━━━━━━━━━━━━━━━━━ \u001b[0m\u001b[1mStep \u001b[0m\u001b[1;36m1\u001b[0m\u001b[38;2;212;183;2m ━━━━━━━━━━━━━━━━━━━━━━━━━━━━━━━━━━━━━━━━━━━━━━━━━━━━━━\u001b[0m\n"
            ],
            "text/html": [
              "<pre style=\"white-space:pre;overflow-x:auto;line-height:normal;font-family:Menlo,'DejaVu Sans Mono',consolas,'Courier New',monospace\"><span style=\"color: #d4b702; text-decoration-color: #d4b702\">━━━━━━━━━━━━━━━━━━━━━━━━━━━━━━━━━━━━━━━━━━━━━━━━━━━━━ </span><span style=\"font-weight: bold\">Step </span><span style=\"color: #008080; text-decoration-color: #008080; font-weight: bold\">1</span><span style=\"color: #d4b702; text-decoration-color: #d4b702\"> ━━━━━━━━━━━━━━━━━━━━━━━━━━━━━━━━━━━━━━━━━━━━━━━━━━━━━━</span>\n",
              "</pre>\n"
            ]
          },
          "metadata": {}
        },
        {
          "output_type": "display_data",
          "data": {
            "text/plain": [
              "╭─────────────────────────────────────────────────────────────────────────────────────────────────────────────────╮\n",
              "│ Calling tool: 'generate_post' with arguments: {'highlight': 'wraps up the ai workshops and talks to showcase    │\n",
              "│ what everyone built for the month', 'event_name': 'AI Agent showcase', 'date': 'May the 10th', 'location':      │\n",
              "│ 'Geekdom'}                                                                                                      │\n",
              "╰─────────────────────────────────────────────────────────────────────────────────────────────────────────────────╯\n"
            ],
            "text/html": [
              "<pre style=\"white-space:pre;overflow-x:auto;line-height:normal;font-family:Menlo,'DejaVu Sans Mono',consolas,'Courier New',monospace\">╭─────────────────────────────────────────────────────────────────────────────────────────────────────────────────╮\n",
              "│ Calling tool: 'generate_post' with arguments: {'highlight': 'wraps up the ai workshops and talks to showcase    │\n",
              "│ what everyone built for the month', 'event_name': 'AI Agent showcase', 'date': 'May the 10th', 'location':      │\n",
              "│ 'Geekdom'}                                                                                                      │\n",
              "╰─────────────────────────────────────────────────────────────────────────────────────────────────────────────────╯\n",
              "</pre>\n"
            ]
          },
          "metadata": {}
        },
        {
          "output_type": "display_data",
          "data": {
            "text/plain": [
              "\u001b[38;2;212;183;2m╭─\u001b[0m\u001b[38;2;212;183;2m───────────────────────────────────────────────────\u001b[0m\u001b[38;2;212;183;2m \u001b[0m\u001b[1;38;2;212;183;2mNew run\u001b[0m\u001b[38;2;212;183;2m \u001b[0m\u001b[38;2;212;183;2m───────────────────────────────────────────────────\u001b[0m\u001b[38;2;212;183;2m─╮\u001b[0m\n",
              "\u001b[38;2;212;183;2m│\u001b[0m                                                                                                                 \u001b[38;2;212;183;2m│\u001b[0m\n",
              "\u001b[38;2;212;183;2m│\u001b[0m \u001b[1mWrite a LinkedIn post promoting an event.\u001b[0m                                                                       \u001b[38;2;212;183;2m│\u001b[0m\n",
              "\u001b[38;2;212;183;2m│\u001b[0m                                                                                                                 \u001b[38;2;212;183;2m│\u001b[0m\n",
              "\u001b[38;2;212;183;2m│\u001b[0m \u001b[1mEvent Name: AI Agent showcase\u001b[0m                                                                                   \u001b[38;2;212;183;2m│\u001b[0m\n",
              "\u001b[38;2;212;183;2m│\u001b[0m \u001b[1mDate: May the 10th\u001b[0m                                                                                              \u001b[38;2;212;183;2m│\u001b[0m\n",
              "\u001b[38;2;212;183;2m│\u001b[0m \u001b[1mLocation: Geekdom\u001b[0m                                                                                               \u001b[38;2;212;183;2m│\u001b[0m\n",
              "\u001b[38;2;212;183;2m│\u001b[0m \u001b[1mHighlight: wraps up the ai workshops and talks to showcase what everyone built for the month\u001b[0m                    \u001b[38;2;212;183;2m│\u001b[0m\n",
              "\u001b[38;2;212;183;2m│\u001b[0m                                                                                                                 \u001b[38;2;212;183;2m│\u001b[0m\n",
              "\u001b[38;2;212;183;2m│\u001b[0m \u001b[1mMake it sound professional, friendly, and engaging. Add relevant hashtags.\u001b[0m                                      \u001b[38;2;212;183;2m│\u001b[0m\n",
              "\u001b[38;2;212;183;2m│\u001b[0m                                                                                                                 \u001b[38;2;212;183;2m│\u001b[0m\n",
              "\u001b[38;2;212;183;2m╰─\u001b[0m\u001b[38;2;212;183;2m HfApiModel - Qwen/Qwen2.5-Coder-32B-Instruct \u001b[0m\u001b[38;2;212;183;2m─────────────────────────────────────────────────────────────────\u001b[0m\u001b[38;2;212;183;2m─╯\u001b[0m\n"
            ],
            "text/html": [
              "<pre style=\"white-space:pre;overflow-x:auto;line-height:normal;font-family:Menlo,'DejaVu Sans Mono',consolas,'Courier New',monospace\"><span style=\"color: #d4b702; text-decoration-color: #d4b702\">╭──────────────────────────────────────────────────── </span><span style=\"color: #d4b702; text-decoration-color: #d4b702; font-weight: bold\">New run</span><span style=\"color: #d4b702; text-decoration-color: #d4b702\"> ────────────────────────────────────────────────────╮</span>\n",
              "<span style=\"color: #d4b702; text-decoration-color: #d4b702\">│</span>                                                                                                                 <span style=\"color: #d4b702; text-decoration-color: #d4b702\">│</span>\n",
              "<span style=\"color: #d4b702; text-decoration-color: #d4b702\">│</span> <span style=\"font-weight: bold\">Write a LinkedIn post promoting an event.</span>                                                                       <span style=\"color: #d4b702; text-decoration-color: #d4b702\">│</span>\n",
              "<span style=\"color: #d4b702; text-decoration-color: #d4b702\">│</span>                                                                                                                 <span style=\"color: #d4b702; text-decoration-color: #d4b702\">│</span>\n",
              "<span style=\"color: #d4b702; text-decoration-color: #d4b702\">│</span> <span style=\"font-weight: bold\">Event Name: AI Agent showcase</span>                                                                                   <span style=\"color: #d4b702; text-decoration-color: #d4b702\">│</span>\n",
              "<span style=\"color: #d4b702; text-decoration-color: #d4b702\">│</span> <span style=\"font-weight: bold\">Date: May the 10th</span>                                                                                              <span style=\"color: #d4b702; text-decoration-color: #d4b702\">│</span>\n",
              "<span style=\"color: #d4b702; text-decoration-color: #d4b702\">│</span> <span style=\"font-weight: bold\">Location: Geekdom</span>                                                                                               <span style=\"color: #d4b702; text-decoration-color: #d4b702\">│</span>\n",
              "<span style=\"color: #d4b702; text-decoration-color: #d4b702\">│</span> <span style=\"font-weight: bold\">Highlight: wraps up the ai workshops and talks to showcase what everyone built for the month</span>                    <span style=\"color: #d4b702; text-decoration-color: #d4b702\">│</span>\n",
              "<span style=\"color: #d4b702; text-decoration-color: #d4b702\">│</span>                                                                                                                 <span style=\"color: #d4b702; text-decoration-color: #d4b702\">│</span>\n",
              "<span style=\"color: #d4b702; text-decoration-color: #d4b702\">│</span> <span style=\"font-weight: bold\">Make it sound professional, friendly, and engaging. Add relevant hashtags.</span>                                      <span style=\"color: #d4b702; text-decoration-color: #d4b702\">│</span>\n",
              "<span style=\"color: #d4b702; text-decoration-color: #d4b702\">│</span>                                                                                                                 <span style=\"color: #d4b702; text-decoration-color: #d4b702\">│</span>\n",
              "<span style=\"color: #d4b702; text-decoration-color: #d4b702\">╰─ HfApiModel - Qwen/Qwen2.5-Coder-32B-Instruct ──────────────────────────────────────────────────────────────────╯</span>\n",
              "</pre>\n"
            ]
          },
          "metadata": {}
        },
        {
          "output_type": "display_data",
          "data": {
            "text/plain": [
              "\u001b[38;2;212;183;2m━━━━━━━━━━━━━━━━━━━━━━━━━━━━━━━━━━━━━━━━━━━━━━━━━━━━━ \u001b[0m\u001b[1mStep \u001b[0m\u001b[1;36m1\u001b[0m\u001b[38;2;212;183;2m ━━━━━━━━━━━━━━━━━━━━━━━━━━━━━━━━━━━━━━━━━━━━━━━━━━━━━━\u001b[0m\n"
            ],
            "text/html": [
              "<pre style=\"white-space:pre;overflow-x:auto;line-height:normal;font-family:Menlo,'DejaVu Sans Mono',consolas,'Courier New',monospace\"><span style=\"color: #d4b702; text-decoration-color: #d4b702\">━━━━━━━━━━━━━━━━━━━━━━━━━━━━━━━━━━━━━━━━━━━━━━━━━━━━━ </span><span style=\"font-weight: bold\">Step </span><span style=\"color: #008080; text-decoration-color: #008080; font-weight: bold\">1</span><span style=\"color: #d4b702; text-decoration-color: #d4b702\"> ━━━━━━━━━━━━━━━━━━━━━━━━━━━━━━━━━━━━━━━━━━━━━━━━━━━━━━</span>\n",
              "</pre>\n"
            ]
          },
          "metadata": {}
        },
        {
          "output_type": "display_data",
          "data": {
            "text/plain": [
              "╭─────────────────────────────────────────────────────────────────────────────────────────────────────────────────╮\n",
              "│ Calling tool: 'final_answer' with arguments: {'answer': \"🚀 Excitement Awaits at the AI Agent Showcase!         │\n",
              "│ 🚀\\\\nJoin us on May 10th at Geekdom for a special event that culminates our month-long AI workshops and         │\n",
              "│ insightful talks. This showcase will be an opportunity to witness and celebrate the amazing projects that our   │\n",
              "│ participants have built. Don't miss out on this chance to see the future of AI!\\\\n📅 Date: May 10th, 2023       │\n",
              "│ \\\\\\\\📍 Location: Geekdom \\\\\\\\🌐 Theme: Wrapping up AI workshops & Talks Showcase \\\\\\\\[Let's innovate            │\n",
              "│ together!]\\\\n#AIAgents #Geekdom #AIInnovation #TechCommunity #FutureOfWork #LearnAI #InnovateAI #TechEvent\"}    │\n",
              "╰─────────────────────────────────────────────────────────────────────────────────────────────────────────────────╯\n"
            ],
            "text/html": [
              "<pre style=\"white-space:pre;overflow-x:auto;line-height:normal;font-family:Menlo,'DejaVu Sans Mono',consolas,'Courier New',monospace\">╭─────────────────────────────────────────────────────────────────────────────────────────────────────────────────╮\n",
              "│ Calling tool: 'final_answer' with arguments: {'answer': \"🚀 Excitement Awaits at the AI Agent Showcase!         │\n",
              "│ 🚀\\\\nJoin us on May 10th at Geekdom for a special event that culminates our month-long AI workshops and         │\n",
              "│ insightful talks. This showcase will be an opportunity to witness and celebrate the amazing projects that our   │\n",
              "│ participants have built. Don't miss out on this chance to see the future of AI!\\\\n📅 Date: May 10th, 2023       │\n",
              "│ \\\\\\\\📍 Location: Geekdom \\\\\\\\🌐 Theme: Wrapping up AI workshops &amp; Talks Showcase \\\\\\\\[Let's innovate            │\n",
              "│ together!]\\\\n#AIAgents #Geekdom #AIInnovation #TechCommunity #FutureOfWork #LearnAI #InnovateAI #TechEvent\"}    │\n",
              "╰─────────────────────────────────────────────────────────────────────────────────────────────────────────────────╯\n",
              "</pre>\n"
            ]
          },
          "metadata": {}
        },
        {
          "output_type": "display_data",
          "data": {
            "text/plain": [
              "\u001b[1;38;2;212;183;2mFinal answer: 🚀 Excitement Awaits at the AI Agent Showcase! 🚀\\nJoin us on May 10th at Geekdom for a special event\u001b[0m\n",
              "\u001b[1;38;2;212;183;2mthat culminates our month-long AI workshops and insightful talks. This showcase will be an opportunity to witness \u001b[0m\n",
              "\u001b[1;38;2;212;183;2mand celebrate the amazing projects that our participants have built. Don't miss out on this chance to see the \u001b[0m\n",
              "\u001b[1;38;2;212;183;2mfuture of AI!\\n📅 Date: May 10th, 2023 \\\\📍 Location: Geekdom \\\\🌐 Theme: Wrapping up AI workshops & Talks Showcase\u001b[0m\n",
              "\u001b[1;38;2;212;183;2m\\\\[Let's innovate together!]\\n#AIAgents #Geekdom #AIInnovation #TechCommunity #FutureOfWork #LearnAI #InnovateAI \u001b[0m\n",
              "\u001b[1;38;2;212;183;2m#TechEvent\u001b[0m\n"
            ],
            "text/html": [
              "<pre style=\"white-space:pre;overflow-x:auto;line-height:normal;font-family:Menlo,'DejaVu Sans Mono',consolas,'Courier New',monospace\"><span style=\"color: #d4b702; text-decoration-color: #d4b702; font-weight: bold\">Final answer: 🚀 Excitement Awaits at the AI Agent Showcase! 🚀\\nJoin us on May 10th at Geekdom for a special event</span>\n",
              "<span style=\"color: #d4b702; text-decoration-color: #d4b702; font-weight: bold\">that culminates our month-long AI workshops and insightful talks. This showcase will be an opportunity to witness </span>\n",
              "<span style=\"color: #d4b702; text-decoration-color: #d4b702; font-weight: bold\">and celebrate the amazing projects that our participants have built. Don't miss out on this chance to see the </span>\n",
              "<span style=\"color: #d4b702; text-decoration-color: #d4b702; font-weight: bold\">future of AI!\\n📅 Date: May 10th, 2023 \\\\📍 Location: Geekdom \\\\🌐 Theme: Wrapping up AI workshops &amp; Talks Showcase</span>\n",
              "<span style=\"color: #d4b702; text-decoration-color: #d4b702; font-weight: bold\">\\\\[Let's innovate together!]\\n#AIAgents #Geekdom #AIInnovation #TechCommunity #FutureOfWork #LearnAI #InnovateAI </span>\n",
              "<span style=\"color: #d4b702; text-decoration-color: #d4b702; font-weight: bold\">#TechEvent</span>\n",
              "</pre>\n"
            ]
          },
          "metadata": {}
        },
        {
          "output_type": "display_data",
          "data": {
            "text/plain": [
              "\u001b[2m[Step 1: Duration 11.66 seconds| Input tokens: 1,092 | Output tokens: 174]\u001b[0m\n"
            ],
            "text/html": [
              "<pre style=\"white-space:pre;overflow-x:auto;line-height:normal;font-family:Menlo,'DejaVu Sans Mono',consolas,'Courier New',monospace\"><span style=\"color: #7f7f7f; text-decoration-color: #7f7f7f\">[Step 1: Duration 11.66 seconds| Input tokens: 1,092 | Output tokens: 174]</span>\n",
              "</pre>\n"
            ]
          },
          "metadata": {}
        },
        {
          "output_type": "display_data",
          "data": {
            "text/plain": [
              "Observations: 🚀 Excitement Awaits at the AI Agent Showcase! 🚀\\nJoin us on May 10th at Geekdom for a special event\n",
              "that culminates our month-long AI workshops and insightful talks. This showcase will be an opportunity to witness \n",
              "and celebrate the amazing projects that our participants have built. Don't miss out on this chance to see the \n",
              "future of AI!\\n📅 Date: May 10th, \u001b[1;36m2023\u001b[0m \\\\📍 Location: Geekdom \\\\🌐 Theme: Wrapping up AI workshops & Talks Showcase\n",
              "\\\\|Let's innovate together!\u001b[1m]\u001b[0m\\n#AIAgents #Geekdom #AIInnovation #TechCommunity #FutureOfWork #LearnAI #InnovateAI \n",
              "#TechEvent\n"
            ],
            "text/html": [
              "<pre style=\"white-space:pre;overflow-x:auto;line-height:normal;font-family:Menlo,'DejaVu Sans Mono',consolas,'Courier New',monospace\">Observations: 🚀 Excitement Awaits at the AI Agent Showcase! 🚀\\nJoin us on May 10th at Geekdom for a special event\n",
              "that culminates our month-long AI workshops and insightful talks. This showcase will be an opportunity to witness \n",
              "and celebrate the amazing projects that our participants have built. Don't miss out on this chance to see the \n",
              "future of AI!\\n📅 Date: May 10th, <span style=\"color: #008080; text-decoration-color: #008080; font-weight: bold\">2023</span> \\\\📍 Location: Geekdom \\\\🌐 Theme: Wrapping up AI workshops &amp; Talks Showcase\n",
              "\\\\|Let's innovate together!<span style=\"font-weight: bold\">]</span>\\n#AIAgents #Geekdom #AIInnovation #TechCommunity #FutureOfWork #LearnAI #InnovateAI \n",
              "#TechEvent\n",
              "</pre>\n"
            ]
          },
          "metadata": {}
        },
        {
          "output_type": "display_data",
          "data": {
            "text/plain": [
              "\u001b[2m[Step 1: Duration 19.21 seconds| Input tokens: 1,092 | Output tokens: 174]\u001b[0m\n"
            ],
            "text/html": [
              "<pre style=\"white-space:pre;overflow-x:auto;line-height:normal;font-family:Menlo,'DejaVu Sans Mono',consolas,'Courier New',monospace\"><span style=\"color: #7f7f7f; text-decoration-color: #7f7f7f\">[Step 1: Duration 19.21 seconds| Input tokens: 1,092 | Output tokens: 174]</span>\n",
              "</pre>\n"
            ]
          },
          "metadata": {}
        },
        {
          "output_type": "display_data",
          "data": {
            "text/plain": [
              "\u001b[38;2;212;183;2m━━━━━━━━━━━━━━━━━━━━━━━━━━━━━━━━━━━━━━━━━━━━━━━━━━━━━ \u001b[0m\u001b[1mStep \u001b[0m\u001b[1;36m2\u001b[0m\u001b[38;2;212;183;2m ━━━━━━━━━━━━━━━━━━━━━━━━━━━━━━━━━━━━━━━━━━━━━━━━━━━━━━\u001b[0m\n"
            ],
            "text/html": [
              "<pre style=\"white-space:pre;overflow-x:auto;line-height:normal;font-family:Menlo,'DejaVu Sans Mono',consolas,'Courier New',monospace\"><span style=\"color: #d4b702; text-decoration-color: #d4b702\">━━━━━━━━━━━━━━━━━━━━━━━━━━━━━━━━━━━━━━━━━━━━━━━━━━━━━ </span><span style=\"font-weight: bold\">Step </span><span style=\"color: #008080; text-decoration-color: #008080; font-weight: bold\">2</span><span style=\"color: #d4b702; text-decoration-color: #d4b702\"> ━━━━━━━━━━━━━━━━━━━━━━━━━━━━━━━━━━━━━━━━━━━━━━━━━━━━━━</span>\n",
              "</pre>\n"
            ]
          },
          "metadata": {}
        },
        {
          "output_type": "display_data",
          "data": {
            "text/plain": [
              "╭─────────────────────────────────────────────────────────────────────────────────────────────────────────────────╮\n",
              "│ Calling tool: 'final_answer' with arguments: {'answer': \"🚀 Excitement Awaits at the AI Agent Showcase!         │\n",
              "│ 🚀\\\\nJoin us on May 10th at Geekdom for a special event that culminates our month-long AI workshops and         │\n",
              "│ insightful talks. This showcase will be an opportunity to witness and celebrate the amazing projects that our   │\n",
              "│ participants have built. Don't miss out on this chance to see the future of AI!\\\\n📅 Date: May 10th, 2023 \\\\📍  │\n",
              "│ Location: Geekdom \\\\🌐 Theme: Wrapping up AI workshops & Talks Showcase \\\\[Let's innovate together!]\\\\\"}        │\n",
              "╰─────────────────────────────────────────────────────────────────────────────────────────────────────────────────╯\n"
            ],
            "text/html": [
              "<pre style=\"white-space:pre;overflow-x:auto;line-height:normal;font-family:Menlo,'DejaVu Sans Mono',consolas,'Courier New',monospace\">╭─────────────────────────────────────────────────────────────────────────────────────────────────────────────────╮\n",
              "│ Calling tool: 'final_answer' with arguments: {'answer': \"🚀 Excitement Awaits at the AI Agent Showcase!         │\n",
              "│ 🚀\\\\nJoin us on May 10th at Geekdom for a special event that culminates our month-long AI workshops and         │\n",
              "│ insightful talks. This showcase will be an opportunity to witness and celebrate the amazing projects that our   │\n",
              "│ participants have built. Don't miss out on this chance to see the future of AI!\\\\n📅 Date: May 10th, 2023 \\\\📍  │\n",
              "│ Location: Geekdom \\\\🌐 Theme: Wrapping up AI workshops &amp; Talks Showcase \\\\[Let's innovate together!]\\\\\"}        │\n",
              "╰─────────────────────────────────────────────────────────────────────────────────────────────────────────────────╯\n",
              "</pre>\n"
            ]
          },
          "metadata": {}
        },
        {
          "output_type": "display_data",
          "data": {
            "text/plain": [
              "\u001b[1;38;2;212;183;2mFinal answer: 🚀 Excitement Awaits at the AI Agent Showcase! 🚀\\nJoin us on May 10th at Geekdom for a special event\u001b[0m\n",
              "\u001b[1;38;2;212;183;2mthat culminates our month-long AI workshops and insightful talks. This showcase will be an opportunity to witness \u001b[0m\n",
              "\u001b[1;38;2;212;183;2mand celebrate the amazing projects that our participants have built. Don't miss out on this chance to see the \u001b[0m\n",
              "\u001b[1;38;2;212;183;2mfuture of AI!\\n📅 Date: May 10th, 2023 \\📍 Location: Geekdom \\🌐 Theme: Wrapping up AI workshops & Talks Showcase \u001b[0m\n",
              "\u001b[1;38;2;212;183;2m\\[Let's innovate together!]\\\u001b[0m\n"
            ],
            "text/html": [
              "<pre style=\"white-space:pre;overflow-x:auto;line-height:normal;font-family:Menlo,'DejaVu Sans Mono',consolas,'Courier New',monospace\"><span style=\"color: #d4b702; text-decoration-color: #d4b702; font-weight: bold\">Final answer: 🚀 Excitement Awaits at the AI Agent Showcase! 🚀\\nJoin us on May 10th at Geekdom for a special event</span>\n",
              "<span style=\"color: #d4b702; text-decoration-color: #d4b702; font-weight: bold\">that culminates our month-long AI workshops and insightful talks. This showcase will be an opportunity to witness </span>\n",
              "<span style=\"color: #d4b702; text-decoration-color: #d4b702; font-weight: bold\">and celebrate the amazing projects that our participants have built. Don't miss out on this chance to see the </span>\n",
              "<span style=\"color: #d4b702; text-decoration-color: #d4b702; font-weight: bold\">future of AI!\\n📅 Date: May 10th, 2023 \\📍 Location: Geekdom \\🌐 Theme: Wrapping up AI workshops &amp; Talks Showcase </span>\n",
              "<span style=\"color: #d4b702; text-decoration-color: #d4b702; font-weight: bold\">\\[Let's innovate together!]\\</span>\n",
              "</pre>\n"
            ]
          },
          "metadata": {}
        },
        {
          "output_type": "display_data",
          "data": {
            "text/plain": [
              "\u001b[2m[Step 2: Duration 9.60 seconds| Input tokens: 2,669 | Output tokens: 316]\u001b[0m\n"
            ],
            "text/html": [
              "<pre style=\"white-space:pre;overflow-x:auto;line-height:normal;font-family:Menlo,'DejaVu Sans Mono',consolas,'Courier New',monospace\"><span style=\"color: #7f7f7f; text-decoration-color: #7f7f7f\">[Step 2: Duration 9.60 seconds| Input tokens: 2,669 | Output tokens: 316]</span>\n",
              "</pre>\n"
            ]
          },
          "metadata": {}
        },
        {
          "output_type": "stream",
          "name": "stdout",
          "text": [
            "🚀 Excitement Awaits at the AI Agent Showcase! 🚀\\nJoin us on May 10th at Geekdom for a special event that culminates our month-long AI workshops and insightful talks. This showcase will be an opportunity to witness and celebrate the amazing projects that our participants have built. Don't miss out on this chance to see the future of AI!\\n📅 Date: May 10th, 2023 \\📍 Location: Geekdom \\🌐 Theme: Wrapping up AI workshops & Talks Showcase \\[Let's innovate together!]\\\n"
          ]
        }
      ]
    },
    {
      "cell_type": "markdown",
      "source": [
        "## Tool 4: Estimate Budget\n",
        "Let’s add a tool to help estimate the total cost of your event based on the number of attendees and what services you include—like catering, venue rental, and swag.\n",
        "\n",
        "This lets the agent do basic financial planning in seconds.\n",
        "\n",
        "This tool:\n",
        "* Estimates total cost for catering, vene, and swag"
      ],
      "metadata": {
        "id": "RrFnA2Xo1hnm"
      }
    },
    {
      "cell_type": "code",
      "source": [
        "from smolagents import ToolCallingAgent, HfApiModel, tool\n",
        "\n",
        "\n",
        "@tool\n",
        "def estimate_budget(guests: int,location: str = \"San Antonio, Texas\", catering: bool = True, venue: bool = True, swag: bool = False) -> dict:\n",
        "    \"\"\"\n",
        "    This tool estimates the total cost of an event.\n",
        "\n",
        "    Args:\n",
        "        guests: The number of guests attending the event.\n",
        "        location: City/region of the event.\n",
        "        catering: Whether catering is included. Defaults to True.\n",
        "        venue: Whether a venue is included. Defaults to True.\n",
        "        swag: Whether swag is included. Defaults to False.\n",
        "    \"\"\"\n",
        "    base_cost = 0\n",
        "    if catering:\n",
        "        base_cost += guests * 15  # $15 per guest for food\n",
        "    if venue:\n",
        "        base_cost += 500  # Flat rate for venue\n",
        "    if swag:\n",
        "        base_cost += guests * 5  # $5 per guest for merch\n",
        "    return {\n",
        "        \"Location:\": location,\n",
        "        \"Estimated Total\": f\"${base_cost}\",\n",
        "        \"Breakdown\": {\n",
        "            \"Catering\": f\"${guests * 15 if catering else 0}\",\n",
        "            \"Venue\": \"$200\" if venue else \"$0\",\n",
        "            \"Swag\": f\"${guests * 5 if swag else 0}\"\n",
        "        }\n",
        "    }"
      ],
      "metadata": {
        "id": "7vrECy6k1gni"
      },
      "execution_count": 17,
      "outputs": []
    },
    {
      "cell_type": "code",
      "source": [
        "agent = ToolCallingAgent(tools=[estimate_budget], model=model)\n",
        "agent.run(\"How much will 50 guest cost me for this event and the breakdown of the expenses.\")"
      ],
      "metadata": {
        "id": "r_aoy1pOUgKI",
        "outputId": "69b34b7e-e19c-43bf-ac81-a9bf3b22d20e",
        "colab": {
          "base_uri": "https://localhost:8080/",
          "height": 367
        }
      },
      "execution_count": 18,
      "outputs": [
        {
          "output_type": "display_data",
          "data": {
            "text/plain": [
              "\u001b[38;2;212;183;2m╭─\u001b[0m\u001b[38;2;212;183;2m───────────────────────────────────────────────────\u001b[0m\u001b[38;2;212;183;2m \u001b[0m\u001b[1;38;2;212;183;2mNew run\u001b[0m\u001b[38;2;212;183;2m \u001b[0m\u001b[38;2;212;183;2m───────────────────────────────────────────────────\u001b[0m\u001b[38;2;212;183;2m─╮\u001b[0m\n",
              "\u001b[38;2;212;183;2m│\u001b[0m                                                                                                                 \u001b[38;2;212;183;2m│\u001b[0m\n",
              "\u001b[38;2;212;183;2m│\u001b[0m \u001b[1mHow much will 50 guest cost me for this event and the breakdown of the expenses.\u001b[0m                                \u001b[38;2;212;183;2m│\u001b[0m\n",
              "\u001b[38;2;212;183;2m│\u001b[0m                                                                                                                 \u001b[38;2;212;183;2m│\u001b[0m\n",
              "\u001b[38;2;212;183;2m╰─\u001b[0m\u001b[38;2;212;183;2m HfApiModel - Qwen/Qwen2.5-Coder-32B-Instruct \u001b[0m\u001b[38;2;212;183;2m─────────────────────────────────────────────────────────────────\u001b[0m\u001b[38;2;212;183;2m─╯\u001b[0m\n"
            ],
            "text/html": [
              "<pre style=\"white-space:pre;overflow-x:auto;line-height:normal;font-family:Menlo,'DejaVu Sans Mono',consolas,'Courier New',monospace\"><span style=\"color: #d4b702; text-decoration-color: #d4b702\">╭──────────────────────────────────────────────────── </span><span style=\"color: #d4b702; text-decoration-color: #d4b702; font-weight: bold\">New run</span><span style=\"color: #d4b702; text-decoration-color: #d4b702\"> ────────────────────────────────────────────────────╮</span>\n",
              "<span style=\"color: #d4b702; text-decoration-color: #d4b702\">│</span>                                                                                                                 <span style=\"color: #d4b702; text-decoration-color: #d4b702\">│</span>\n",
              "<span style=\"color: #d4b702; text-decoration-color: #d4b702\">│</span> <span style=\"font-weight: bold\">How much will 50 guest cost me for this event and the breakdown of the expenses.</span>                                <span style=\"color: #d4b702; text-decoration-color: #d4b702\">│</span>\n",
              "<span style=\"color: #d4b702; text-decoration-color: #d4b702\">│</span>                                                                                                                 <span style=\"color: #d4b702; text-decoration-color: #d4b702\">│</span>\n",
              "<span style=\"color: #d4b702; text-decoration-color: #d4b702\">╰─ HfApiModel - Qwen/Qwen2.5-Coder-32B-Instruct ──────────────────────────────────────────────────────────────────╯</span>\n",
              "</pre>\n"
            ]
          },
          "metadata": {}
        },
        {
          "output_type": "display_data",
          "data": {
            "text/plain": [
              "\u001b[38;2;212;183;2m━━━━━━━━━━━━━━━━━━━━━━━━━━━━━━━━━━━━━━━━━━━━━━━━━━━━━ \u001b[0m\u001b[1mStep \u001b[0m\u001b[1;36m1\u001b[0m\u001b[38;2;212;183;2m ━━━━━━━━━━━━━━━━━━━━━━━━━━━━━━━━━━━━━━━━━━━━━━━━━━━━━━\u001b[0m\n"
            ],
            "text/html": [
              "<pre style=\"white-space:pre;overflow-x:auto;line-height:normal;font-family:Menlo,'DejaVu Sans Mono',consolas,'Courier New',monospace\"><span style=\"color: #d4b702; text-decoration-color: #d4b702\">━━━━━━━━━━━━━━━━━━━━━━━━━━━━━━━━━━━━━━━━━━━━━━━━━━━━━ </span><span style=\"font-weight: bold\">Step </span><span style=\"color: #008080; text-decoration-color: #008080; font-weight: bold\">1</span><span style=\"color: #d4b702; text-decoration-color: #d4b702\"> ━━━━━━━━━━━━━━━━━━━━━━━━━━━━━━━━━━━━━━━━━━━━━━━━━━━━━━</span>\n",
              "</pre>\n"
            ]
          },
          "metadata": {}
        },
        {
          "output_type": "display_data",
          "data": {
            "text/plain": [
              "╭─────────────────────────────────────────────────────────────────────────────────────────────────────────────────╮\n",
              "│ Calling tool: 'estimate_budget' with arguments: {'guests': 50}                                                  │\n",
              "╰─────────────────────────────────────────────────────────────────────────────────────────────────────────────────╯\n"
            ],
            "text/html": [
              "<pre style=\"white-space:pre;overflow-x:auto;line-height:normal;font-family:Menlo,'DejaVu Sans Mono',consolas,'Courier New',monospace\">╭─────────────────────────────────────────────────────────────────────────────────────────────────────────────────╮\n",
              "│ Calling tool: 'estimate_budget' with arguments: {'guests': 50}                                                  │\n",
              "╰─────────────────────────────────────────────────────────────────────────────────────────────────────────────────╯\n",
              "</pre>\n"
            ]
          },
          "metadata": {}
        },
        {
          "output_type": "display_data",
          "data": {
            "text/plain": [
              "Observations: \u001b[1m{\u001b[0m\u001b[32m'Location:'\u001b[0m: \u001b[32m'San Antonio, Texas'\u001b[0m, \u001b[32m'Estimated Total'\u001b[0m: \u001b[32m'$1250'\u001b[0m, \u001b[32m'Breakdown'\u001b[0m: \u001b[1m{\u001b[0m\u001b[32m'Catering'\u001b[0m: \u001b[32m'$750'\u001b[0m, \n",
              "\u001b[32m'Venue'\u001b[0m: \u001b[32m'$200'\u001b[0m, \u001b[32m'Swag'\u001b[0m: \u001b[32m'$0'\u001b[0m\u001b[1m}\u001b[0m\u001b[1m}\u001b[0m\n"
            ],
            "text/html": [
              "<pre style=\"white-space:pre;overflow-x:auto;line-height:normal;font-family:Menlo,'DejaVu Sans Mono',consolas,'Courier New',monospace\">Observations: <span style=\"font-weight: bold\">{</span><span style=\"color: #008000; text-decoration-color: #008000\">'Location:'</span>: <span style=\"color: #008000; text-decoration-color: #008000\">'San Antonio, Texas'</span>, <span style=\"color: #008000; text-decoration-color: #008000\">'Estimated Total'</span>: <span style=\"color: #008000; text-decoration-color: #008000\">'$1250'</span>, <span style=\"color: #008000; text-decoration-color: #008000\">'Breakdown'</span>: <span style=\"font-weight: bold\">{</span><span style=\"color: #008000; text-decoration-color: #008000\">'Catering'</span>: <span style=\"color: #008000; text-decoration-color: #008000\">'$750'</span>, \n",
              "<span style=\"color: #008000; text-decoration-color: #008000\">'Venue'</span>: <span style=\"color: #008000; text-decoration-color: #008000\">'$200'</span>, <span style=\"color: #008000; text-decoration-color: #008000\">'Swag'</span>: <span style=\"color: #008000; text-decoration-color: #008000\">'$0'</span><span style=\"font-weight: bold\">}}</span>\n",
              "</pre>\n"
            ]
          },
          "metadata": {}
        },
        {
          "output_type": "display_data",
          "data": {
            "text/plain": [
              "\u001b[2m[Step 1: Duration 0.12 seconds| Input tokens: 1,357 | Output tokens: 20]\u001b[0m\n"
            ],
            "text/html": [
              "<pre style=\"white-space:pre;overflow-x:auto;line-height:normal;font-family:Menlo,'DejaVu Sans Mono',consolas,'Courier New',monospace\"><span style=\"color: #7f7f7f; text-decoration-color: #7f7f7f\">[Step 1: Duration 0.12 seconds| Input tokens: 1,357 | Output tokens: 20]</span>\n",
              "</pre>\n"
            ]
          },
          "metadata": {}
        },
        {
          "output_type": "display_data",
          "data": {
            "text/plain": [
              "\u001b[38;2;212;183;2m━━━━━━━━━━━━━━━━━━━━━━━━━━━━━━━━━━━━━━━━━━━━━━━━━━━━━ \u001b[0m\u001b[1mStep \u001b[0m\u001b[1;36m2\u001b[0m\u001b[38;2;212;183;2m ━━━━━━━━━━━━━━━━━━━━━━━━━━━━━━━━━━━━━━━━━━━━━━━━━━━━━━\u001b[0m\n"
            ],
            "text/html": [
              "<pre style=\"white-space:pre;overflow-x:auto;line-height:normal;font-family:Menlo,'DejaVu Sans Mono',consolas,'Courier New',monospace\"><span style=\"color: #d4b702; text-decoration-color: #d4b702\">━━━━━━━━━━━━━━━━━━━━━━━━━━━━━━━━━━━━━━━━━━━━━━━━━━━━━ </span><span style=\"font-weight: bold\">Step </span><span style=\"color: #008080; text-decoration-color: #008080; font-weight: bold\">2</span><span style=\"color: #d4b702; text-decoration-color: #d4b702\"> ━━━━━━━━━━━━━━━━━━━━━━━━━━━━━━━━━━━━━━━━━━━━━━━━━━━━━━</span>\n",
              "</pre>\n"
            ]
          },
          "metadata": {}
        },
        {
          "output_type": "display_data",
          "data": {
            "text/plain": [
              "╭─────────────────────────────────────────────────────────────────────────────────────────────────────────────────╮\n",
              "│ Calling tool: 'final_answer' with arguments: {'answer': 'The total cost for 50 guests is $1250. The breakdown   │\n",
              "│ of the expenses is as follows: Catering - $750, Venue - $200, Swag - $0.'}                                      │\n",
              "╰─────────────────────────────────────────────────────────────────────────────────────────────────────────────────╯\n"
            ],
            "text/html": [
              "<pre style=\"white-space:pre;overflow-x:auto;line-height:normal;font-family:Menlo,'DejaVu Sans Mono',consolas,'Courier New',monospace\">╭─────────────────────────────────────────────────────────────────────────────────────────────────────────────────╮\n",
              "│ Calling tool: 'final_answer' with arguments: {'answer': 'The total cost for 50 guests is $1250. The breakdown   │\n",
              "│ of the expenses is as follows: Catering - $750, Venue - $200, Swag - $0.'}                                      │\n",
              "╰─────────────────────────────────────────────────────────────────────────────────────────────────────────────────╯\n",
              "</pre>\n"
            ]
          },
          "metadata": {}
        },
        {
          "output_type": "display_data",
          "data": {
            "text/plain": [
              "\u001b[1;38;2;212;183;2mFinal answer: The total cost for 50 guests is $1250. The breakdown of the expenses is as follows: Catering - $750, \u001b[0m\n",
              "\u001b[1;38;2;212;183;2mVenue - $200, Swag - $0.\u001b[0m\n"
            ],
            "text/html": [
              "<pre style=\"white-space:pre;overflow-x:auto;line-height:normal;font-family:Menlo,'DejaVu Sans Mono',consolas,'Courier New',monospace\"><span style=\"color: #d4b702; text-decoration-color: #d4b702; font-weight: bold\">Final answer: The total cost for 50 guests is $1250. The breakdown of the expenses is as follows: Catering - $750, </span>\n",
              "<span style=\"color: #d4b702; text-decoration-color: #d4b702; font-weight: bold\">Venue - $200, Swag - $0.</span>\n",
              "</pre>\n"
            ]
          },
          "metadata": {}
        },
        {
          "output_type": "display_data",
          "data": {
            "text/plain": [
              "\u001b[2m[Step 2: Duration 3.10 seconds| Input tokens: 2,820 | Output tokens: 82]\u001b[0m\n"
            ],
            "text/html": [
              "<pre style=\"white-space:pre;overflow-x:auto;line-height:normal;font-family:Menlo,'DejaVu Sans Mono',consolas,'Courier New',monospace\"><span style=\"color: #7f7f7f; text-decoration-color: #7f7f7f\">[Step 2: Duration 3.10 seconds| Input tokens: 2,820 | Output tokens: 82]</span>\n",
              "</pre>\n"
            ]
          },
          "metadata": {}
        },
        {
          "output_type": "execute_result",
          "data": {
            "text/plain": [
              "'The total cost for 50 guests is $1250. The breakdown of the expenses is as follows: Catering - $750, Venue - $200, Swag - $0.'"
            ],
            "application/vnd.google.colaboratory.intrinsic+json": {
              "type": "string"
            }
          },
          "metadata": {},
          "execution_count": 18
        }
      ]
    },
    {
      "cell_type": "markdown",
      "source": [
        "# Exercise: Custom Tools\n",
        "Let’s put your creativity to work!\n",
        "\n",
        "In this section, you’ll write your own custom tools that your agent can use. These boilerplate functions serve as a template—just edit the logic and descriptions to suit your needs.\n",
        "\n",
        "Example Idea:\n",
        "* A guest list lookup tool\n",
        "* A reminder generator\n",
        "* A checklist builder\n",
        "* A Spotify playlist suggester for the event"
      ],
      "metadata": {
        "id": "9QilfCXWGgXX"
      }
    },
    {
      "cell_type": "code",
      "source": [
        "from smolagents import tool\n",
        "\n",
        "@tool\n",
        "def custom_tool_1() -> str:\n",
        "    \"\"\"\n",
        "    This tool is a placeholder for your custom functionality.\n",
        "    \"\"\"\n",
        "    return \"This tool does nothing yet. Make it do something cool!\"\n",
        "\n",
        "@tool\n",
        "def custom_tool_2() -> str:\n",
        "    \"\"\"\n",
        "    This tool is another placeholder—get creative with it!\n",
        "    \"\"\"\n",
        "    return \"This tool also does nothing... for now.\"\n"
      ],
      "metadata": {
        "id": "-mraGWgTGwQo"
      },
      "execution_count": 19,
      "outputs": []
    },
    {
      "cell_type": "markdown",
      "source": [
        "## Bringing it all together"
      ],
      "metadata": {
        "id": "LqfTOC22HpoX"
      }
    },
    {
      "cell_type": "code",
      "source": [
        "import gradio as gr\n",
        "from PIL import Image\n",
        "import requests\n",
        "from io import BytesIO\n",
        "\n",
        "# Tool sets you define elsewhere\n",
        "tool_sets = {\n",
        "    \"Custom Tools\": [custom_tool_1, custom_tool_2],\n",
        "    \"Event Planning\": [web_search, estimate_budget, get_location],\n",
        "    \"Post + Image\": [generate_post, image_generation_tool],\n",
        "    # Add more sets as needed\n",
        "}\n",
        "\n",
        "# Agent runner function that returns both text and image (if available)\n",
        "def run_agent(prompt, tool_choice):\n",
        "    tools = tool_sets.get(tool_choice, [])\n",
        "    agent = ToolCallingAgent(model=model, tools=tools)\n",
        "    response = agent.run(prompt)\n",
        "\n",
        "    # Try to extract image if the tool response is an image URL\n",
        "    image = None\n",
        "    if isinstance(response, str) and \"http\" in response and response.endswith((\".jpg\", \".png\", \".jpeg\")):\n",
        "        try:\n",
        "            img_data = requests.get(response).content\n",
        "            image = Image.open(BytesIO(img_data))\n",
        "        except:\n",
        "            image = None  # Image fetch failed or not present\n",
        "\n",
        "    return response, image\n",
        "\n",
        "# Launch Gradio app\n",
        "gr.Interface(\n",
        "    fn=run_agent,\n",
        "    inputs=[\n",
        "        gr.Textbox(label=\"Your Event Planning Prompt\", placeholder=\"e.g. Generate promo image for an AI meetup\"),\n",
        "        gr.Radio(choices=list(tool_sets.keys()), label=\"Choose Tool Set\", value=\"Post + Image\")\n",
        "    ],\n",
        "    outputs=[\n",
        "        gr.Textbox(label=\"Agent Response\"),\n",
        "        gr.Image(label=\"Generated Image\")\n",
        "    ],\n",
        "    title=\"🧠 Event Planner AI Agent\",\n",
        "    description=\"Explore how an AI agent becomes smarter and more helpful as you add new tools!\"\n",
        ").launch(share=True)"
      ],
      "metadata": {
        "id": "unT3yrmwp73e",
        "colab": {
          "base_uri": "https://localhost:8080/",
          "height": 611
        },
        "outputId": "b73f754b-891d-4334-e9ec-03a6e4994080"
      },
      "execution_count": 20,
      "outputs": [
        {
          "output_type": "stream",
          "name": "stdout",
          "text": [
            "Colab notebook detected. To show errors in colab notebook, set debug=True in launch()\n",
            "* Running on public URL: https://f916dbf437e98a46e3.gradio.live\n",
            "\n",
            "This share link expires in 72 hours. For free permanent hosting and GPU upgrades, run `gradio deploy` from the terminal in the working directory to deploy to Hugging Face Spaces (https://huggingface.co/spaces)\n"
          ]
        },
        {
          "output_type": "display_data",
          "data": {
            "text/plain": [
              "<IPython.core.display.HTML object>"
            ],
            "text/html": [
              "<div><iframe src=\"https://f916dbf437e98a46e3.gradio.live\" width=\"100%\" height=\"500\" allow=\"autoplay; camera; microphone; clipboard-read; clipboard-write;\" frameborder=\"0\" allowfullscreen></iframe></div>"
            ]
          },
          "metadata": {}
        },
        {
          "output_type": "execute_result",
          "data": {
            "text/plain": []
          },
          "metadata": {},
          "execution_count": 20
        }
      ]
    }
  ]
}