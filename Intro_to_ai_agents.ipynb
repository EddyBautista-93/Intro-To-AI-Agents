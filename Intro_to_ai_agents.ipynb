{
  "nbformat": 4,
  "nbformat_minor": 0,
  "metadata": {
    "colab": {
      "provenance": [],
      "authorship_tag": "ABX9TyO1CmTi8zmnNvG+OZxg04tC",
      "include_colab_link": true
    },
    "kernelspec": {
      "name": "python3",
      "display_name": "Python 3"
    },
    "language_info": {
      "name": "python"
    }
  },
  "cells": [
    {
      "cell_type": "markdown",
      "metadata": {
        "id": "view-in-github",
        "colab_type": "text"
      },
      "source": [
        "<a href=\"https://colab.research.google.com/github/EddyBautista-93/Intro-To-AI-Agents/blob/main/Intro_to_ai_agents.ipynb\" target=\"_parent\"><img src=\"https://colab.research.google.com/assets/colab-badge.svg\" alt=\"Open In Colab\"/></a>"
      ]
    },
    {
      "cell_type": "markdown",
      "source": [
        "# Intro to AI Agents - EventForge"
      ],
      "metadata": {
        "id": "qI3yiXjKFN6u"
      }
    },
    {
      "cell_type": "markdown",
      "source": [
        "For this workshop we will be creating a AI Agent with the ability to help us plan for a event we will be hosting. \\\n",
        "Below is the following tools we will be looking building together."
      ],
      "metadata": {
        "id": "huMD9xKGFypU"
      }
    },
    {
      "cell_type": "markdown",
      "source": [
        "Tool # | Name | What it adds\n",
        "--- | --- | ---\n",
        "1 | DuckDuckGoSearch | Venue Discovery - Built In\n",
        "2 | Image Generation | Create Promo Visual - Community Tool\n",
        "3 | Agenda Generator | Custom Schedule Based On evenr type - Custom\n",
        "4 | Budget Estimator | Financial planning for headcount, food, venue, and swag - Custom\n",
        "5 | Post Gen | Generate Post"
      ],
      "metadata": {
        "id": "MOwM3agDDqtu"
      }
    },
    {
      "cell_type": "markdown",
      "source": [
        "# Getting started"
      ],
      "metadata": {
        "id": "-DPn6Wvl76-Q"
      }
    },
    {
      "cell_type": "markdown",
      "source": [
        "We’ll begin by installing the dependencies needed for building our smart event planning agent."
      ],
      "metadata": {
        "id": "OIA2bEO4HbF7"
      }
    },
    {
      "cell_type": "code",
      "execution_count": null,
      "metadata": {
        "id": "gAQYS0lPC-yg"
      },
      "outputs": [],
      "source": [
        "! pip install smolagents gradio"
      ]
    },
    {
      "cell_type": "markdown",
      "source": [
        "The Installs\n",
        "\n",
        "\n",
        "*   **smolagents**: A lightweight framework for building LLM-powered agents with tool calling support.\n",
        "*   **gradio**: A UI library for interactive web demos in notebooks\n",
        "\n"
      ],
      "metadata": {
        "id": "oX3XEdyk74eu"
      }
    },
    {
      "cell_type": "markdown",
      "source": [
        "To use models like Mixtral from Hugging Face, you’ll need to authenticate:"
      ],
      "metadata": {
        "id": "WGJeqs-AK3RG"
      }
    },
    {
      "cell_type": "code",
      "source": [
        "from huggingface_hub import notebook_login\n",
        "\n",
        "notebook_login()"
      ],
      "metadata": {
        "id": "DfeXp4RM8JF1"
      },
      "execution_count": null,
      "outputs": []
    },
    {
      "cell_type": "markdown",
      "source": [
        "\n",
        "To create a smart AI agent with SmolAgents, you need two core things:\n",
        "\n",
        "\n",
        "*   A model – the brain of the agent that generates and understands text\n",
        "*   A set of tools – external functions that the model can call to extend its capabilities\n",
        "\n",
        "## The Model\n",
        "Text generation models power your agent. Think of the model as the engine that drives everything forward. SmolAgents supports multiple model types depending on how you want to run your agent.\n",
        "\n",
        "### Model Options\n",
        "**TransformerModel** \\\n",
        "Runs a locally initialized transformers pipeline. Ideal for models you have downloaded or finetuned.\n",
        "\n",
        "**HFApiModel**(What we'll use) \\\n",
        "Uses Hugging Face Inference API via huggingface_hub.InferenceClient to call hosted models. Think LLaMA and Mixtral\n",
        "\n",
        "**LiteLLM**\n",
        "Suppoers calling 100+ LLMs through the LiteLLM router-userful for OpenAI, claude, etc with unified configs.\n",
        "\n",
        "**AzureOpenAiServerModel** \\\n",
        "Connects to OpenAI models deployed through Microsoft Azure\n",
        "\n",
        "**MLXModel** \\\n",
        "Creates a mlx-lm pipeline that run inference on your local machine.\n",
        "\n",
        "\n",
        "# Tools\n",
        "Tools give your AI agent ***agency*** - they let thge model take actions beyond just talking.\\\n",
        "Tools are passed in like this:\n",
        "``` python\n",
        "tools=[]\n",
        "```\n",
        "These tools can incluse things like:\n",
        "\n",
        "\n",
        "*   Search Engines\n",
        "*   Image Generators\n",
        "*   Custom Tools\n",
        "*   RAG (Retrieval Augmented Generation ) Functions\n",
        "\n",
        "## Creating the Agent\n",
        "Once you have the model and tools, you can create a agent like this:\n",
        "\n",
        "``` python\n",
        "model_id = \"meta-llama/Llama-3.3-70B-Instruct\"\n",
        "model = HfApiModel(model_id=model_id) # By default if you don't pass in a model id the hfapi it uses the qwen model\n",
        "agent = ToolCallingAgent(tools=[], model=model)\n",
        "```"
      ],
      "metadata": {
        "id": "eIGLLnYvM1eU"
      }
    },
    {
      "cell_type": "markdown",
      "source": [
        "# ToolCallingAgent\n",
        "\n",
        "The ToolCallingAgent is a lightweight class designed to let large language models interact with tools.\n",
        "\n",
        "Since we're building an agent that plans events, we'll focus on this agent type to give the model the power to search the web, generate images, generate post and estimate budgets.\n",
        "\n",
        "Key Features of ToolCallingAgent\n",
        "- **Contextual Memory**: Maintains a chat history, allowing for ongoing reasoning and continuity across multiple prompts..\n",
        "- **Multi-Step Reasoning**: ToolCallingAgents follow a \"think-act-observe\" cycle as part of the ReAct framework.\n",
        "- **Customizability**: You can define:\n",
        "  * A list of tools for the agent to use.\n",
        "  * Specify prompt templates.\n",
        "  * Adjust other parameters like planning intervals during initialization\n",
        "\n"
      ],
      "metadata": {
        "id": "nh8bkrFFPOkW"
      }
    },
    {
      "cell_type": "markdown",
      "source": [
        "In short: ToolCallingAgent is what gives your AI brain the power to do more than talk—it can take action."
      ],
      "metadata": {
        "id": "Qd8nZb93-7kc"
      }
    },
    {
      "cell_type": "markdown",
      "source": [
        "## Tool 1: DuckDuckGoSearch + Location\n",
        "The first tool we're using is built directly into the SmolAgents framework: DuckDuckGoSearchTool.\n",
        "\n",
        "This tools allows the agent to search the web in real time and retrieve up-to-date information. Perfect for finding venues, vendors, and other real-world event planning needs.\n",
        "\n",
        "This tool:\n",
        "* Searches DuckDuckGo for relevant results.\n",
        "* Works out of the box - no API key needed.\n",
        "* Can be combined with custom tools (like a location preset)"
      ],
      "metadata": {
        "id": "qGwqyIg7DlLQ"
      }
    },
    {
      "cell_type": "code",
      "source": [
        "from smolagents import ToolCallingAgent, HfApiModel , DuckDuckGoSearchTool # we introduce a built in tool\n",
        "\n",
        "model = HfApiModel() # You can choose to not pass any model_id to HfApiModel to use a default free model\n",
        "# you can also specify a particular provider e.g. provider=\"together\" or provider=\"sambanova\"\n",
        "\n",
        "# @tool\n",
        "# def location() -> str:\n",
        "#   \"\"\"\n",
        "#   Returns the location of the user\n",
        "#   \"\"\"\n",
        "#     return \"San Antonio, Texas\"\n",
        "\n",
        "web_search = DuckDuckGoSearchTool()\n",
        "\n",
        "agent = ToolCallingAgent(tools=[web_search], model=model)\n",
        "agent.run(\"Whats a good indoor venue for a tech focused event with free wifi in San Antonio \")"
      ],
      "metadata": {
        "id": "wisfU83cFLji"
      },
      "execution_count": null,
      "outputs": []
    },
    {
      "cell_type": "markdown",
      "source": [
        "## Tool 2: Image Generation"
      ],
      "metadata": {
        "id": "wr-XRvAZHgvy"
      }
    },
    {
      "cell_type": "code",
      "source": [
        "from smolagents import ToolCallingAgent, HfApiModel , DuckDuckGoSearchTool , load_tool\n",
        "image_generation_tool = load_tool(\"m-ric/text-to-image\", trust_remote_code=True)\n",
        "\n",
        "agent = ToolCallingAgent(tools=[image_generation_tool], model=model)\n",
        "agent.run(\"Provide minimal line art promo art for my event, the theme is automating boring things with AI Agents.\")"
      ],
      "metadata": {
        "id": "9H_8ZW2JHiQ2"
      },
      "execution_count": null,
      "outputs": []
    },
    {
      "cell_type": "markdown",
      "source": [
        "## Tool 4: Post Generation"
      ],
      "metadata": {
        "id": "c3Fcl4eRHlS8"
      }
    },
    {
      "cell_type": "code",
      "source": [
        "from smolagents import ToolCallingAgent, HfApiModel, tool\n",
        "\n",
        "model = HfApiModel(model=\"mistralai/Mixtral-8x7B-Instruct-v0.1\")\n",
        "\n",
        "@tool\n",
        "def generate_post(event_name: str, date: str, location: str, highlight: str = \"networking and learning\") -> str:\n",
        "    \"\"\"\n",
        "    Generates a LinkedIn post for a tech event.\n",
        "\n",
        "    Args:\n",
        "        event_name: The name of the event.\n",
        "        date: The date of the event.\n",
        "        location: The city or venue where the event is held.\n",
        "        highlight: What's special about the event. Defaults to 'networking and learning'.\n",
        "    \"\"\"\n",
        "    agent = ToolCallingAgent(model=model, tools=[])\n",
        "    prompt = (\n",
        "        f\"Write a LinkedIn post promoting an event.\\n\\n\"\n",
        "        f\"Event Name: {event_name}\\n\"\n",
        "        f\"Date: {date}\\n\"\n",
        "        f\"Location: {location}\\n\"\n",
        "        f\"Highlight: {highlight}\\n\\n\"\n",
        "        \"Make it sound professional, friendly, and engaging. Add relevant hashtags.\"\n",
        "    )\n",
        "    return agent.run(prompt)"
      ],
      "metadata": {
        "id": "Y8ilVI6YHpFV"
      },
      "execution_count": null,
      "outputs": []
    },
    {
      "cell_type": "code",
      "source": [
        "agent = ToolCallingAgent(tools=[generate_post], model=model)\n",
        "\n",
        "response = agent.run(\"Create a LinkedIn post for an event called FutureTech SA happening April 25 at Geekdom focused on AI agents.\")\n",
        "print(response)"
      ],
      "metadata": {
        "id": "6gNvxi-o6dFl"
      },
      "execution_count": null,
      "outputs": []
    },
    {
      "cell_type": "markdown",
      "source": [
        "## Tool 5: Estimate Budget"
      ],
      "metadata": {
        "id": "RrFnA2Xo1hnm"
      }
    },
    {
      "cell_type": "code",
      "source": [
        "from smolagents import ToolCallingAgent, HfApiModel, tool\n",
        "\n",
        "\n",
        "@tool\n",
        "def estimate_budget(guests: int, catering: bool = True, venue: bool = True, swag: bool = False) -> dict:\n",
        "    \"\"\"\n",
        "    This tool estimates the total cost of an event.\n",
        "\n",
        "    Args:\n",
        "        guests: The number of guests attending the event.\n",
        "        catering: Whether catering is included. Defaults to True.\n",
        "        venue: Whether a venue is included. Defaults to True.\n",
        "        swag: Whether swag is included. Defaults to False.\n",
        "    \"\"\"\n",
        "    base_cost = 0\n",
        "    if catering:\n",
        "        base_cost += guests * 15  # $15 per guest for food\n",
        "    if venue:\n",
        "        base_cost += 500  # Flat rate for venue\n",
        "    if swag:\n",
        "        base_cost += guests * 5  # $5 per guest for merch\n",
        "    return {\n",
        "        \"Estimated Total\": f\"${base_cost}\",\n",
        "        \"Breakdown\": {\n",
        "            \"Catering\": f\"${guests * 15 if catering else 0}\",\n",
        "            \"Venue\": \"$500\" if venue else \"$0\",\n",
        "            \"Swag\": f\"${guests * 5 if swag else 0}\"\n",
        "        }\n",
        "    }\n",
        "\n",
        "agent = ToolCallingAgent(tools=[estimate_budget], model=model)\n",
        "agent.run(\"How much will 20 guest cost me for this event\")"
      ],
      "metadata": {
        "id": "7vrECy6k1gni"
      },
      "execution_count": null,
      "outputs": []
    },
    {
      "cell_type": "markdown",
      "source": [
        "# Exercise: Custom Tools"
      ],
      "metadata": {
        "id": "9QilfCXWGgXX"
      }
    },
    {
      "cell_type": "code",
      "source": [
        "from smolagents import ToolCallingAgent, HfApiModel, tool\n",
        "\n",
        "\n",
        "@tool\n",
        "def custom_tool_1() -> str:\n",
        "    \"\"\"\n",
        "    This tool provides the guest list for an event.\n",
        "    \"\"\"\n",
        "    return \"This tool does nothing.\"\n",
        "\n",
        "\n",
        "@tool\n",
        "def custom_tool_2() -> str:\n",
        "    \"\"\"\n",
        "    This tool provides the guest list for an event.\n",
        "    \"\"\"\n",
        "    return \"This tool does nothing.\"\n",
        "\n",
        "\n"
      ],
      "metadata": {
        "id": "-mraGWgTGwQo"
      },
      "execution_count": null,
      "outputs": []
    },
    {
      "cell_type": "markdown",
      "source": [
        "Bringing it all together"
      ],
      "metadata": {
        "id": "LqfTOC22HpoX"
      }
    },
    {
      "cell_type": "code",
      "source": [
        "\n",
        "import gradio as gr\n",
        "from smolagents import ToolCallingAgent, HfApiModel\n",
        "\n",
        "\n",
        "tool_sets = {\n",
        "    \"Custom Tools\": [custom_tool_1, custom_tool_2],\n",
        "    \"Search Only\": [web_search],\n",
        "    \"Post + Image\": [generate_post, image_generation_tool],\n",
        "    # \"Full Power\": [web_search, image_generation_tool, generate_agenda, estimate_budget]\n",
        "}\n",
        "\n",
        "# 4. Run agent\n",
        "def run_agent(prompt, tool_choice):\n",
        "    tools = tool_sets.get(tool_choice, [])\n",
        "    agent = ToolCallingAgent(model=model, tools=tools)\n",
        "    response = agent.run(prompt)\n",
        "    return response\n",
        "\n",
        "# 5. Gradio UI\n",
        "gr.Interface(\n",
        "    fn=run_agent,\n",
        "    inputs=[\n",
        "        gr.Textbox(label=\"Your Event Planning Prompt\", placeholder=\"e.g. Plan a tech meetup in San Antonio\"),\n",
        "        gr.Radio(choices=list(tool_sets.keys()), label=\"Choose Tool Set\", value=\"No Tools\")\n",
        "    ],\n",
        "    outputs=gr.Textbox(label=\"Agent Response\"),\n",
        "    title=\"🧠 Event Planner AI Agent\",\n",
        "    description=\"Explore how an AI agent becomes smarter and more helpful as you add new tools!\"\n",
        ").launch(share=True)"
      ],
      "metadata": {
        "id": "unT3yrmwp73e"
      },
      "execution_count": null,
      "outputs": []
    }
  ]
}