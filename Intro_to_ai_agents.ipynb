{
  "nbformat": 4,
  "nbformat_minor": 0,
  "metadata": {
    "colab": {
      "provenance": [],
      "authorship_tag": "ABX9TyO3oO9u3QYTxLuHkjxBxBC9",
      "include_colab_link": true
    },
    "kernelspec": {
      "name": "python3",
      "display_name": "Python 3"
    },
    "language_info": {
      "name": "python"
    }
  },
  "cells": [
    {
      "cell_type": "markdown",
      "metadata": {
        "id": "view-in-github",
        "colab_type": "text"
      },
      "source": [
        "<a href=\"https://colab.research.google.com/github/EddyBautista-93/Intro-To-AI-Agents/blob/main/Intro_to_ai_agents.ipynb\" target=\"_parent\"><img src=\"https://colab.research.google.com/assets/colab-badge.svg\" alt=\"Open In Colab\"/></a>"
      ]
    },
    {
      "cell_type": "markdown",
      "source": [
        "# Intro to AI Agents - EventForge"
      ],
      "metadata": {
        "id": "qI3yiXjKFN6u"
      }
    },
    {
      "cell_type": "markdown",
      "source": [
        "For this workshop we will be creating a AI Agent with the ability to help us plan for a event we will be hosting. \\\n",
        "Below is the following tools we will be looking building together."
      ],
      "metadata": {
        "id": "huMD9xKGFypU"
      }
    },
    {
      "cell_type": "markdown",
      "source": [
        "Tool # | Name | What it adds\n",
        "--- | --- | ---\n",
        "1 | DuckDuckGoSearch | Venue Discovery - Built In\n",
        "2 | Image Generation | Create Promo Visual - Community Tool\n",
        "3 | Post Gen | Generate Post\n",
        "4 | Budget Estimator | Financial planning for headcount, food, venue, and swag - Custom\n"
      ],
      "metadata": {
        "id": "MOwM3agDDqtu"
      }
    },
    {
      "cell_type": "markdown",
      "source": [
        "# Getting started"
      ],
      "metadata": {
        "id": "-DPn6Wvl76-Q"
      }
    },
    {
      "cell_type": "markdown",
      "source": [
        "We’ll begin by installing the dependencies needed for building our smart event planning agent."
      ],
      "metadata": {
        "id": "OIA2bEO4HbF7"
      }
    },
    {
      "cell_type": "code",
      "execution_count": null,
      "metadata": {
        "id": "gAQYS0lPC-yg"
      },
      "outputs": [],
      "source": [
        "! pip install smolagents gradio"
      ]
    },
    {
      "cell_type": "markdown",
      "source": [
        "The Installs\n",
        "\n",
        "\n",
        "*   **smolagents**: A lightweight framework for building LLM-powered agents with tool calling support.\n",
        "*   **gradio**: A UI library for interactive web demos in notebooks\n",
        "\n"
      ],
      "metadata": {
        "id": "oX3XEdyk74eu"
      }
    },
    {
      "cell_type": "markdown",
      "source": [
        "To use models like Mixtral from Hugging Face, you’ll need to authenticate:\n",
        "This key will be active only for the session"
      ],
      "metadata": {
        "id": "WGJeqs-AK3RG"
      }
    },
    {
      "cell_type": "code",
      "source": [
        "from huggingface_hub import notebook_login\n",
        "\n",
        "notebook_login()"
      ],
      "metadata": {
        "id": "DfeXp4RM8JF1"
      },
      "execution_count": null,
      "outputs": []
    },
    {
      "cell_type": "markdown",
      "source": [
        "\n",
        "To create a smart AI agent with SmolAgents, you need two core things:\n",
        "\n",
        "\n",
        "*   A model – the brain of the agent that generates and understands text\n",
        "*   A set of tools – external functions that the model can call to extend its capabilities\n",
        "\n",
        "## The Model\n",
        "Text generation models power your agent. Think of the model as the engine that drives everything forward. SmolAgents supports multiple model types depending on how you want to run your agent.\n",
        "\n",
        "### Model Options\n",
        "**TransformerModel** \\\n",
        "Runs a locally initialized transformers pipeline. Ideal for models you have downloaded or finetuned.\n",
        "\n",
        "**HFApiModel**(What we'll use) \\\n",
        "Uses Hugging Face Inference API via huggingface_hub.InferenceClient to call hosted models. Think LLaMA and Mixtral\n",
        "\n",
        "**LiteLLM** \\\n",
        "Supports calling 100+ LLMs through the LiteLLM router-userful for OpenAI, claude, etc with unified configs.\n",
        "\n",
        "**AzureOpenAiServerModel** \\\n",
        "Connects to OpenAI models deployed through Microsoft Azure\n",
        "\n",
        "**MLXModel** \\\n",
        "Creates a mlx-lm pipeline that run inference on your local machine.\n",
        "\n",
        "\n",
        "# Tools\n",
        "Tools give your AI agent ***agency*** - they let the model take actions beyond just talking.\\\n",
        "Tools are passed in like this:\n",
        "``` python\n",
        "tools=[]\n",
        "```\n",
        "These tools can include things like:\n",
        "\n",
        "\n",
        "*   Search Engines\n",
        "*   Image Generators\n",
        "*   Custom Tools\n",
        "*   RAG (Retrieval Augmented Generation ) Functions\n",
        "\n",
        "## Creating the Agent\n",
        "Once you have the model and tools, you can create a agent like this:\n",
        "\n",
        "``` python\n",
        "model_id = \"meta-llama/Llama-3.3-70B-Instruct\"\n",
        "model = HfApiModel(model_id=model_id) # By default if you don't pass in a model id the hfapi it uses the qwen model\n",
        "agent = ToolCallingAgent(tools=[], model=model)\n",
        "```"
      ],
      "metadata": {
        "id": "eIGLLnYvM1eU"
      }
    },
    {
      "cell_type": "markdown",
      "source": [
        "# ToolCallingAgent\n",
        "\n",
        "The ToolCallingAgent is a lightweight class designed to let large language models interact with tools.\n",
        "\n",
        "Since we're building an agent that plans events, we'll focus on this agent type to give the model the power to search the web, generate images, generate post and estimate budgets.\n",
        "\n",
        "Key Features of ToolCallingAgent\n",
        "- **Contextual Memory**: Maintains a chat history, allowing for ongoing reasoning and continuity across multiple prompts..\n",
        "- **Multi-Step Reasoning**: ToolCallingAgents follow a \"think-act-observe\" cycle as part of the ReAct framework.\n",
        "- **Customizability**: You can define:\n",
        "  * A list of tools for the agent to use.\n",
        "  * Specify prompt templates.\n",
        "  * Adjust other parameters like planning intervals during initialization\n",
        "\n"
      ],
      "metadata": {
        "id": "nh8bkrFFPOkW"
      }
    },
    {
      "cell_type": "markdown",
      "source": [
        "In short: ToolCallingAgent is what gives your AI brain the power to do more than talk—it can take action."
      ],
      "metadata": {
        "id": "Qd8nZb93-7kc"
      }
    },
    {
      "cell_type": "markdown",
      "source": [
        "## Tool 1: DuckDuckGoSearch + Location\n",
        "The first tool we're using is built directly into the SmolAgents framework: DuckDuckGoSearchTool.\n",
        "\n",
        "This tools allows the agent to search the web in real time and retrieve up-to-date information. Perfect for finding venues, vendors, and other real-world event planning needs.\n",
        "\n",
        "This tool:\n",
        "* Searches DuckDuckGo for relevant results.\n",
        "* Works out of the box - no API key needed.\n",
        "* Can be combined with custom tools (like a location preset)"
      ],
      "metadata": {
        "id": "qGwqyIg7DlLQ"
      }
    },
    {
      "cell_type": "markdown",
      "source": [
        "Allow the Agent to Search for the web"
      ],
      "metadata": {
        "id": "SATwo_xyB8xO"
      }
    },
    {
      "cell_type": "code",
      "source": [
        "from smolagents import ToolCallingAgent, HfApiModel , DuckDuckGoSearchTool, tool # we introduce a built in tool\n",
        "\n",
        "# You can choose to not pass any model_id to HfApiModel to use a default free\n",
        "# model Qwen/Qwen2.5-Coder-32B-Instruct\n",
        "model = HfApiModel()\n",
        "\n",
        "# Initialize the built in search tool\n",
        "web_search = DuckDuckGoSearchTool()\n",
        "\n",
        "# Custom tool that returns the location you are located ( We use be using\n",
        "# location logic in production)\n",
        "@tool\n",
        "def get_location() -> str:\n",
        "    \"\"\"\n",
        "    Returns the default location for event planning.\n",
        "    \"\"\"\n",
        "    return \"San Antonio, Texas\""
      ],
      "metadata": {
        "id": "wisfU83cFLji"
      },
      "execution_count": null,
      "outputs": []
    },
    {
      "cell_type": "markdown",
      "source": [
        "And then you bring it all together!"
      ],
      "metadata": {
        "id": "GMv4Qr4GCIvx"
      }
    },
    {
      "cell_type": "code",
      "source": [
        "agent = ToolCallingAgent(tools=[web_search, get_location], model=model)\n",
        "agent.run(\"Whats a good indoor venue for a tech focused event with free wifi in my city?\")"
      ],
      "metadata": {
        "id": "dD3q1MQuCMzx"
      },
      "execution_count": null,
      "outputs": []
    },
    {
      "cell_type": "markdown",
      "source": [
        "## Tool 2: Image Generation\n",
        "Now that agent can search for venues, let's give it the ability to generate promo visuals for the event.\n",
        "\n",
        "SmolAgents supports loading third-party tools like text-to-image generators. In this example, we use the open-source model hosted at m-ric/text-to-image, which supports prompts like “minimal line art” or “AI poster design.\n",
        "This tool:\n",
        "* Generates images from text prompts\n",
        "* Hosted on hugging face - no setup or api needed."
      ],
      "metadata": {
        "id": "wr-XRvAZHgvy"
      }
    },
    {
      "cell_type": "code",
      "source": [
        "from smolagents import ToolCallingAgent, HfApiModel , DuckDuckGoSearchTool , load_tool\n",
        "image_generation_tool = load_tool(\"m-ric/text-to-image\", trust_remote_code=True)\n"
      ],
      "metadata": {
        "id": "9H_8ZW2JHiQ2"
      },
      "execution_count": null,
      "outputs": []
    },
    {
      "cell_type": "code",
      "source": [
        "agent = ToolCallingAgent(tools=[image_generation_tool], model=model)\n",
        "agent.run(\"Provide minimal line art promo for my event, the theme is automating boring things with AI Agents.\")"
      ],
      "metadata": {
        "id": "i1Ff4k_BUphN"
      },
      "execution_count": null,
      "outputs": []
    },
    {
      "cell_type": "markdown",
      "source": [
        "## Tool 3: LinkedIn Post Generation\n",
        "\n",
        "With an event idea, venue, and promo visuals in place, its time to get the word out! This tool helps your AI agent write a professional Linkedin Post to promote the event.\n",
        "\n",
        "Instead of hardcoding a poat, this tool uses the LLM to generate a natural, dynamic social content based on structured inputs.\n",
        "\n",
        "This tool:\n",
        "* Generates a LinkedIn ready promo post.\n",
        "* Uses the same model to write the content via an inernal ToolCallingAgent\n",
        "* Accepts strucuturd fields like event name, date, and highlight"
      ],
      "metadata": {
        "id": "c3Fcl4eRHlS8"
      }
    },
    {
      "cell_type": "code",
      "source": [
        "from smolagents import ToolCallingAgent, HfApiModel, tool\n",
        "\n",
        "# Initialize the model\n",
        "model = HfApiModel(model=\"mistralai/Mixtral-8x7B-Instruct-v0.1\")\n",
        "\n",
        "# Define the post generator tool\n",
        "@tool\n",
        "def generate_post(event_name: str, date: str, location: str, highlight: str = \"networking and learning\") -> str:\n",
        "    \"\"\"\n",
        "    Generates a LinkedIn post for a tech event.\n",
        "\n",
        "    Args:\n",
        "        event_name: The name of the event.\n",
        "        date: The date of the event.\n",
        "        location: The city or venue where the event is held.\n",
        "        highlight: What's special about the event. Defaults to 'networking and learning'.\n",
        "    \"\"\"\n",
        "    sub_agent = ToolCallingAgent(model=model, tools=[])\n",
        "    prompt = (\n",
        "        f\"Write a LinkedIn post promoting an event.\\n\\n\"\n",
        "        f\"Event Name: {event_name}\\n\"\n",
        "        f\"Date: {date}\\n\"\n",
        "        f\"Location: {location}\\n\"\n",
        "        f\"Highlight: {highlight}\\n\\n\"\n",
        "        \"Make it sound professional, friendly, and engaging. Add relevant hashtags.\"\n",
        "    )\n",
        "    return sub_agent.run(prompt)"
      ],
      "metadata": {
        "id": "Y8ilVI6YHpFV"
      },
      "execution_count": null,
      "outputs": []
    },
    {
      "cell_type": "code",
      "source": [
        "agent = ToolCallingAgent(tools=[generate_post], model=model)\n",
        "\n",
        "response = agent.run(\"Create a LinkedIn post for an event called AI Agent showcase at Geekdom on May the 10th. This event wraps up the ai workshops and talks to showcase what everyone built for the month\")\n",
        "print(response)"
      ],
      "metadata": {
        "id": "6gNvxi-o6dFl"
      },
      "execution_count": null,
      "outputs": []
    },
    {
      "cell_type": "markdown",
      "source": [
        "## Tool 4: Estimate Budget\n",
        "Let’s add a tool to help estimate the total cost of your event based on the number of attendees and what services you include—like catering, venue rental, and swag.\n",
        "\n",
        "This lets the agent do basic financial planning in seconds.\n",
        "\n",
        "This tool:\n",
        "* Estimates total cost for catering, vene, and swag"
      ],
      "metadata": {
        "id": "RrFnA2Xo1hnm"
      }
    },
    {
      "cell_type": "code",
      "source": [
        "from smolagents import ToolCallingAgent, HfApiModel, tool\n",
        "\n",
        "\n",
        "@tool\n",
        "def estimate_budget(guests: int,location: str = \"San Antonio, Texas\", catering: bool = True, venue: bool = True, swag: bool = False) -> dict:\n",
        "    \"\"\"\n",
        "    This tool estimates the total cost of an event.\n",
        "\n",
        "    Args:\n",
        "        guests: The number of guests attending the event.\n",
        "        location: City/region of the event.\n",
        "        catering: Whether catering is included. Defaults to True.\n",
        "        venue: Whether a venue is included. Defaults to True.\n",
        "        swag: Whether swag is included. Defaults to False.\n",
        "    \"\"\"\n",
        "    base_cost = 0\n",
        "    if catering:\n",
        "        base_cost += guests * 15  # $15 per guest for food\n",
        "    if venue:\n",
        "        base_cost += 500  # Flat rate for venue\n",
        "    if swag:\n",
        "        base_cost += guests * 5  # $5 per guest for merch\n",
        "    return {\n",
        "        \"Location:\": location,\n",
        "        \"Estimated Total\": f\"${base_cost}\",\n",
        "        \"Breakdown\": {\n",
        "            \"Catering\": f\"${guests * 15 if catering else 0}\",\n",
        "            \"Venue\": \"$200\" if venue else \"$0\",\n",
        "            \"Swag\": f\"${guests * 5 if swag else 0}\"\n",
        "        }\n",
        "    }"
      ],
      "metadata": {
        "id": "7vrECy6k1gni"
      },
      "execution_count": null,
      "outputs": []
    },
    {
      "cell_type": "code",
      "source": [
        "agent = ToolCallingAgent(tools=[estimate_budget], model=model)\n",
        "agent.run(\"How much will 50 guest cost me for this event and the breakdown of the expenses.\")"
      ],
      "metadata": {
        "id": "r_aoy1pOUgKI"
      },
      "execution_count": null,
      "outputs": []
    },
    {
      "cell_type": "markdown",
      "source": [
        "# Exercise: Custom Tools\n",
        "Let’s put your creativity to work!\n",
        "\n",
        "In this section, you’ll write your own custom tools that your agent can use. These boilerplate functions serve as a template—just edit the logic and descriptions to suit your needs.\n",
        "\n",
        "Example Idea:\n",
        "* A guest list lookup tool\n",
        "* A reminder generator\n",
        "* A checklist builder\n",
        "* A Spotify playlist suggester for the event"
      ],
      "metadata": {
        "id": "9QilfCXWGgXX"
      }
    },
    {
      "cell_type": "code",
      "source": [
        "from smolagents import tool\n",
        "\n",
        "@tool\n",
        "def custom_tool_1() -> str:\n",
        "    \"\"\"\n",
        "    This tool is a placeholder for your custom functionality.\n",
        "    \"\"\"\n",
        "    return \"This tool does nothing yet. Make it do something cool!\"\n",
        "\n",
        "@tool\n",
        "def custom_tool_2() -> str:\n",
        "    \"\"\"\n",
        "    This tool is another placeholder—get creative with it!\n",
        "    \"\"\"\n",
        "    return \"This tool also does nothing... for now.\"\n"
      ],
      "metadata": {
        "id": "-mraGWgTGwQo"
      },
      "execution_count": null,
      "outputs": []
    },
    {
      "cell_type": "markdown",
      "source": [
        "## Bringing it all together"
      ],
      "metadata": {
        "id": "LqfTOC22HpoX"
      }
    },
    {
      "cell_type": "code",
      "source": [
        "import gradio as gr\n",
        "from PIL import Image\n",
        "import requests\n",
        "from io import BytesIO\n",
        "\n",
        "# Tool sets you define elsewhere\n",
        "tool_sets = {\n",
        "    \"Custom Tools\": [custom_tool_1, custom_tool_2],\n",
        "    \"Event Planning\": [web_search, estimate_budget, get_location],\n",
        "    \"Post + Image\": [generate_post, image_generation_tool],\n",
        "    # Add more sets as needed\n",
        "}\n",
        "\n",
        "# Agent runner function that returns both text and image (if available)\n",
        "def run_agent(prompt, tool_choice):\n",
        "    tools = tool_sets.get(tool_choice, [])\n",
        "    agent = ToolCallingAgent(model=model, tools=tools)\n",
        "    response = agent.run(prompt)\n",
        "\n",
        "    # Try to extract image if the tool response is an image URL\n",
        "    image = None\n",
        "    if isinstance(response, str) and \"http\" in response and response.endswith((\".jpg\", \".png\", \".jpeg\")):\n",
        "        try:\n",
        "            img_data = requests.get(response).content\n",
        "            image = Image.open(BytesIO(img_data))\n",
        "        except:\n",
        "            image = None  # Image fetch failed or not present\n",
        "\n",
        "    return response, image\n",
        "\n",
        "# Launch Gradio app\n",
        "gr.Interface(\n",
        "    fn=run_agent,\n",
        "    inputs=[\n",
        "        gr.Textbox(label=\"Your Event Planning Prompt\", placeholder=\"e.g. Generate promo image for an AI meetup\"),\n",
        "        gr.Radio(choices=list(tool_sets.keys()), label=\"Choose Tool Set\", value=\"Post + Image\")\n",
        "    ],\n",
        "    outputs=[\n",
        "        gr.Textbox(label=\"Agent Response\"),\n",
        "        gr.Image(label=\"Generated Image\")\n",
        "    ],\n",
        "    title=\"🧠 Event Planner AI Agent\",\n",
        "    description=\"Explore how an AI agent becomes smarter and more helpful as you add new tools!\"\n",
        ").launch(share=True)"
      ],
      "metadata": {
        "id": "unT3yrmwp73e"
      },
      "execution_count": null,
      "outputs": []
    }
  ]
}